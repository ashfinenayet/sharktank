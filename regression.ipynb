{
 "cells": [
  {
   "cell_type": "code",
   "execution_count": 33,
   "metadata": {},
   "outputs": [],
   "source": [
    "import numpy as np\n",
    "import sklearn \n",
    "import pandas as pd\n",
    "import xgboost as xg\n",
    "import altair as alt\n",
    "import nbformat"
   ]
  },
  {
   "cell_type": "code",
   "execution_count": 2,
   "metadata": {},
   "outputs": [],
   "source": [
    "sharktank = pd.read_csv('Shark Tank US dataset.csv',  encoding= 'unicode_escape')"
   ]
  },
  {
   "cell_type": "code",
   "execution_count": 3,
   "metadata": {},
   "outputs": [
    {
     "data": {
      "text/plain": [
       "Food and Beverage              202\n",
       "Fashion / Beauty               167\n",
       "Lifestyle / Home               140\n",
       "Children / Education            93\n",
       "Fitness / Sports / Outdoors     93\n",
       "Software / Tech                 60\n",
       "Pet Products                    43\n",
       "Health / Wellness               36\n",
       "Business Services               29\n",
       "Media / Entertainment           23\n",
       "Lifestyle/Home                  19\n",
       "Automotive                      12\n",
       "Health/Wellness                 12\n",
       "Green/CleanTech                 11\n",
       "Travel                          11\n",
       "Fashion/Beauty                  11\n",
       "Uncertain / Other                9\n",
       "Children/Education               9\n",
       "Fitness/Sports/Outdoors          8\n",
       "Software/Tech                    3\n",
       "Name: Industry, dtype: int64"
      ]
     },
     "execution_count": 3,
     "metadata": {},
     "output_type": "execute_result"
    }
   ],
   "source": [
    "sharktank['Industry'].value_counts()"
   ]
  },
  {
   "cell_type": "code",
   "execution_count": 4,
   "metadata": {},
   "outputs": [
    {
     "data": {
      "text/plain": [
       "['Season Number',\n",
       " 'Episode Number',\n",
       " 'Pitch Number',\n",
       " 'Startup Name',\n",
       " 'Industry',\n",
       " 'Business Description',\n",
       " 'Pitchers Gender',\n",
       " 'Pitchers State',\n",
       " 'Pitchers City',\n",
       " 'Entrepreneur Names',\n",
       " 'Company Website',\n",
       " 'Multiple Entrepreneurs',\n",
       " 'Original Ask Amount',\n",
       " 'Original Offered Equity',\n",
       " 'Valuation Requested',\n",
       " 'Got Deal',\n",
       " 'Total Deal Amount',\n",
       " 'Total Deal Equity',\n",
       " 'Deal Valuation',\n",
       " 'Number of sharks in deal',\n",
       " 'Investment Amount Per Shark',\n",
       " 'Royalty Deal',\n",
       " 'Loan',\n",
       " 'Barbara Corcoran Investment Amount',\n",
       " 'Mark Cuban Investment Amount',\n",
       " 'Lori Greiner Investment Amount',\n",
       " 'Robert Herjavec Investment Amount',\n",
       " 'Daymond John Investment Amount',\n",
       " 'Kevin O Leary Investment Amount',\n",
       " 'Guest Investment Amount',\n",
       " 'BarbaraCorcoran Present',\n",
       " 'MarkCuban Present',\n",
       " 'LoriGreiner Present',\n",
       " 'RobertHerjavec Present',\n",
       " 'DaymondJohn Present',\n",
       " 'KevinOLeary Present',\n",
       " 'KevinHarrington Present',\n",
       " 'Guest Name',\n",
       " 'Notes']"
      ]
     },
     "execution_count": 4,
     "metadata": {},
     "output_type": "execute_result"
    }
   ],
   "source": [
    "list(sharktank.columns)"
   ]
  },
  {
   "cell_type": "code",
   "execution_count": 5,
   "metadata": {},
   "outputs": [],
   "source": [
    "kevin = sharktank.loc[sharktank['KevinOLeary Present'] == 1]\n",
    "barbara = sharktank.loc[sharktank['BarbaraCorcoran Present'] == 1]\n",
    "robert = sharktank.loc[sharktank['RobertHerjavec Present'] == 1]\n",
    "daymond = sharktank.loc[sharktank['DaymondJohn Present'] == 1]\n",
    "kevinharrington = sharktank.loc[sharktank['KevinHarrington Present'] == 1]\n",
    "lori = sharktank.loc[sharktank['LoriGreiner Present'] == 1]\n",
    "markcuban = sharktank.loc[sharktank['MarkCuban Present'] == 1]"
   ]
  },
  {
   "cell_type": "code",
   "execution_count": 25,
   "metadata": {},
   "outputs": [
    {
     "name": "stdout",
     "output_type": "stream",
     "text": [
      "Displaying chart at http://localhost:51995/\n"
     ]
    },
    {
     "ename": "KeyboardInterrupt",
     "evalue": "",
     "output_type": "error",
     "traceback": [
      "\u001b[0;31m---------------------------------------------------------------------------\u001b[0m",
      "\u001b[0;31mKeyboardInterrupt\u001b[0m                         Traceback (most recent call last)",
      "Cell \u001b[0;32mIn[25], line 5\u001b[0m\n\u001b[1;32m      1\u001b[0m alt\u001b[39m.\u001b[39mrenderers\u001b[39m.\u001b[39menable(\u001b[39m'\u001b[39m\u001b[39mdefault\u001b[39m\u001b[39m'\u001b[39m)\n\u001b[1;32m      2\u001b[0m chart \u001b[39m=\u001b[39m alt\u001b[39m.\u001b[39;49mChart(sharktank)\u001b[39m.\u001b[39;49mmark_bar()\u001b[39m.\u001b[39;49mencode(\n\u001b[1;32m      3\u001b[0m     x \u001b[39m=\u001b[39;49m \u001b[39m'\u001b[39;49m\u001b[39mIndustry:O\u001b[39;49m\u001b[39m'\u001b[39;49m,\n\u001b[1;32m      4\u001b[0m     y \u001b[39m=\u001b[39;49m \u001b[39m'\u001b[39;49m\u001b[39mcount(Industry):Q\u001b[39;49m\u001b[39m'\u001b[39;49m\n\u001b[0;32m----> 5\u001b[0m )\u001b[39m.\u001b[39;49mshow()\n",
      "File \u001b[0;32m~/code/new_python/sharktank/.venv/lib/python3.11/site-packages/altair/vegalite/v4/api.py:1795\u001b[0m, in \u001b[0;36mTopLevelMixin.show\u001b[0;34m(self, embed_opt, open_browser)\u001b[0m\n\u001b[1;32m   1790\u001b[0m \u001b[39mexcept\u001b[39;00m \u001b[39mImportError\u001b[39;00m:\n\u001b[1;32m   1791\u001b[0m     \u001b[39mraise\u001b[39;00m \u001b[39mValueError\u001b[39;00m(\n\u001b[1;32m   1792\u001b[0m         \u001b[39m\"\u001b[39m\u001b[39mshow() method requires the altair_viewer package. \u001b[39m\u001b[39m\"\u001b[39m\n\u001b[1;32m   1793\u001b[0m         \u001b[39m\"\u001b[39m\u001b[39mSee http://github.com/altair-viz/altair_viewer\u001b[39m\u001b[39m\"\u001b[39m\n\u001b[1;32m   1794\u001b[0m     )\n\u001b[0;32m-> 1795\u001b[0m altair_viewer\u001b[39m.\u001b[39;49mshow(\u001b[39mself\u001b[39;49m, embed_opt\u001b[39m=\u001b[39;49membed_opt, open_browser\u001b[39m=\u001b[39;49mopen_browser)\n",
      "File \u001b[0;32m~/code/new_python/sharktank/.venv/lib/python3.11/site-packages/altair_viewer/_viewer.py:358\u001b[0m, in \u001b[0;36mChartViewer.show\u001b[0;34m(self, chart, embed_opt, open_browser)\u001b[0m\n\u001b[1;32m    356\u001b[0m \u001b[39mprint\u001b[39m(msg)\n\u001b[1;32m    357\u001b[0m \u001b[39mif\u001b[39;00m \u001b[39mself\u001b[39m\u001b[39m.\u001b[39m_provider \u001b[39mis\u001b[39;00m \u001b[39mnot\u001b[39;00m \u001b[39mNone\u001b[39;00m:\n\u001b[0;32m--> 358\u001b[0m     \u001b[39mself\u001b[39;49m\u001b[39m.\u001b[39;49m_provider\u001b[39m.\u001b[39;49m_disconnect_event\u001b[39m.\u001b[39;49mwait()\n",
      "File \u001b[0;32m/opt/homebrew/Cellar/python@3.11/3.11.1/Frameworks/Python.framework/Versions/3.11/lib/python3.11/threading.py:622\u001b[0m, in \u001b[0;36mEvent.wait\u001b[0;34m(self, timeout)\u001b[0m\n\u001b[1;32m    620\u001b[0m signaled \u001b[39m=\u001b[39m \u001b[39mself\u001b[39m\u001b[39m.\u001b[39m_flag\n\u001b[1;32m    621\u001b[0m \u001b[39mif\u001b[39;00m \u001b[39mnot\u001b[39;00m signaled:\n\u001b[0;32m--> 622\u001b[0m     signaled \u001b[39m=\u001b[39m \u001b[39mself\u001b[39;49m\u001b[39m.\u001b[39;49m_cond\u001b[39m.\u001b[39;49mwait(timeout)\n\u001b[1;32m    623\u001b[0m \u001b[39mreturn\u001b[39;00m signaled\n",
      "File \u001b[0;32m/opt/homebrew/Cellar/python@3.11/3.11.1/Frameworks/Python.framework/Versions/3.11/lib/python3.11/threading.py:320\u001b[0m, in \u001b[0;36mCondition.wait\u001b[0;34m(self, timeout)\u001b[0m\n\u001b[1;32m    318\u001b[0m \u001b[39mtry\u001b[39;00m:    \u001b[39m# restore state no matter what (e.g., KeyboardInterrupt)\u001b[39;00m\n\u001b[1;32m    319\u001b[0m     \u001b[39mif\u001b[39;00m timeout \u001b[39mis\u001b[39;00m \u001b[39mNone\u001b[39;00m:\n\u001b[0;32m--> 320\u001b[0m         waiter\u001b[39m.\u001b[39;49macquire()\n\u001b[1;32m    321\u001b[0m         gotit \u001b[39m=\u001b[39m \u001b[39mTrue\u001b[39;00m\n\u001b[1;32m    322\u001b[0m     \u001b[39melse\u001b[39;00m:\n",
      "\u001b[0;31mKeyboardInterrupt\u001b[0m: "
     ]
    }
   ],
   "source": [
    "\n",
    "alt.renderers.enable('default')\n",
    "chart = alt.Chart(sharktank).mark_bar().encode(\n",
    "    x = 'Industry:O',\n",
    "    y = 'count(Industry):Q'\n",
    ").show()\n",
    "\n"
   ]
  },
  {
   "cell_type": "code",
   "execution_count": 26,
   "metadata": {},
   "outputs": [
    {
     "data": {
      "text/plain": [
       "Male          584\n",
       "Female        245\n",
       "Mixed Team    162\n",
       "Name: Pitchers Gender, dtype: int64"
      ]
     },
     "execution_count": 26,
     "metadata": {},
     "output_type": "execute_result"
    }
   ],
   "source": [
    "sharktank['Pitchers Gender'].value_counts()"
   ]
  },
  {
   "cell_type": "code",
   "execution_count": 30,
   "metadata": {},
   "outputs": [],
   "source": [
    "gotdeal = sharktank['Got Deal'].value_counts()"
   ]
  },
  {
   "cell_type": "code",
   "execution_count": 31,
   "metadata": {},
   "outputs": [
    {
     "name": "stdout",
     "output_type": "stream",
     "text": [
      "Displaying chart at http://localhost:51995/\n"
     ]
    },
    {
     "ename": "KeyboardInterrupt",
     "evalue": "",
     "output_type": "error",
     "traceback": [
      "\u001b[0;31m---------------------------------------------------------------------------\u001b[0m",
      "\u001b[0;31mKeyboardInterrupt\u001b[0m                         Traceback (most recent call last)",
      "Cell \u001b[0;32mIn[31], line 4\u001b[0m\n\u001b[1;32m      1\u001b[0m chart \u001b[39m=\u001b[39m alt\u001b[39m.\u001b[39;49mChart(sharktank)\u001b[39m.\u001b[39;49mmark_bar()\u001b[39m.\u001b[39;49mencode(\n\u001b[1;32m      2\u001b[0m     x \u001b[39m=\u001b[39;49m \u001b[39m'\u001b[39;49m\u001b[39mGot Deal:O\u001b[39;49m\u001b[39m'\u001b[39;49m,\n\u001b[1;32m      3\u001b[0m     y \u001b[39m=\u001b[39;49m \u001b[39m'\u001b[39;49m\u001b[39mcount(Got Deal):Q\u001b[39;49m\u001b[39m'\u001b[39;49m\n\u001b[0;32m----> 4\u001b[0m )\u001b[39m.\u001b[39;49mshow()\n",
      "File \u001b[0;32m~/code/new_python/sharktank/.venv/lib/python3.11/site-packages/altair/vegalite/v4/api.py:1795\u001b[0m, in \u001b[0;36mTopLevelMixin.show\u001b[0;34m(self, embed_opt, open_browser)\u001b[0m\n\u001b[1;32m   1790\u001b[0m \u001b[39mexcept\u001b[39;00m \u001b[39mImportError\u001b[39;00m:\n\u001b[1;32m   1791\u001b[0m     \u001b[39mraise\u001b[39;00m \u001b[39mValueError\u001b[39;00m(\n\u001b[1;32m   1792\u001b[0m         \u001b[39m\"\u001b[39m\u001b[39mshow() method requires the altair_viewer package. \u001b[39m\u001b[39m\"\u001b[39m\n\u001b[1;32m   1793\u001b[0m         \u001b[39m\"\u001b[39m\u001b[39mSee http://github.com/altair-viz/altair_viewer\u001b[39m\u001b[39m\"\u001b[39m\n\u001b[1;32m   1794\u001b[0m     )\n\u001b[0;32m-> 1795\u001b[0m altair_viewer\u001b[39m.\u001b[39;49mshow(\u001b[39mself\u001b[39;49m, embed_opt\u001b[39m=\u001b[39;49membed_opt, open_browser\u001b[39m=\u001b[39;49mopen_browser)\n",
      "File \u001b[0;32m~/code/new_python/sharktank/.venv/lib/python3.11/site-packages/altair_viewer/_viewer.py:358\u001b[0m, in \u001b[0;36mChartViewer.show\u001b[0;34m(self, chart, embed_opt, open_browser)\u001b[0m\n\u001b[1;32m    356\u001b[0m \u001b[39mprint\u001b[39m(msg)\n\u001b[1;32m    357\u001b[0m \u001b[39mif\u001b[39;00m \u001b[39mself\u001b[39m\u001b[39m.\u001b[39m_provider \u001b[39mis\u001b[39;00m \u001b[39mnot\u001b[39;00m \u001b[39mNone\u001b[39;00m:\n\u001b[0;32m--> 358\u001b[0m     \u001b[39mself\u001b[39;49m\u001b[39m.\u001b[39;49m_provider\u001b[39m.\u001b[39;49m_disconnect_event\u001b[39m.\u001b[39;49mwait()\n",
      "File \u001b[0;32m/opt/homebrew/Cellar/python@3.11/3.11.1/Frameworks/Python.framework/Versions/3.11/lib/python3.11/threading.py:622\u001b[0m, in \u001b[0;36mEvent.wait\u001b[0;34m(self, timeout)\u001b[0m\n\u001b[1;32m    620\u001b[0m signaled \u001b[39m=\u001b[39m \u001b[39mself\u001b[39m\u001b[39m.\u001b[39m_flag\n\u001b[1;32m    621\u001b[0m \u001b[39mif\u001b[39;00m \u001b[39mnot\u001b[39;00m signaled:\n\u001b[0;32m--> 622\u001b[0m     signaled \u001b[39m=\u001b[39m \u001b[39mself\u001b[39;49m\u001b[39m.\u001b[39;49m_cond\u001b[39m.\u001b[39;49mwait(timeout)\n\u001b[1;32m    623\u001b[0m \u001b[39mreturn\u001b[39;00m signaled\n",
      "File \u001b[0;32m/opt/homebrew/Cellar/python@3.11/3.11.1/Frameworks/Python.framework/Versions/3.11/lib/python3.11/threading.py:320\u001b[0m, in \u001b[0;36mCondition.wait\u001b[0;34m(self, timeout)\u001b[0m\n\u001b[1;32m    318\u001b[0m \u001b[39mtry\u001b[39;00m:    \u001b[39m# restore state no matter what (e.g., KeyboardInterrupt)\u001b[39;00m\n\u001b[1;32m    319\u001b[0m     \u001b[39mif\u001b[39;00m timeout \u001b[39mis\u001b[39;00m \u001b[39mNone\u001b[39;00m:\n\u001b[0;32m--> 320\u001b[0m         waiter\u001b[39m.\u001b[39;49macquire()\n\u001b[1;32m    321\u001b[0m         gotit \u001b[39m=\u001b[39m \u001b[39mTrue\u001b[39;00m\n\u001b[1;32m    322\u001b[0m     \u001b[39melse\u001b[39;00m:\n",
      "\u001b[0;31mKeyboardInterrupt\u001b[0m: "
     ]
    }
   ],
   "source": [
    "chart = alt.Chart(sharktank).mark_bar().encode(\n",
    "    x = 'Got Deal:O',\n",
    "    y = 'count(Got Deal):Q'\n",
    ").show()"
   ]
  },
  {
   "cell_type": "code",
   "execution_count": 47,
   "metadata": {},
   "outputs": [],
   "source": [
    "\n",
    "\n",
    "sharktank['Season Number'] = sharktank['Season Number'].astype(pd.Int32Dtype())\n",
    "sharktank['Episode Number'] = sharktank['Episode Number'].astype(pd.Int32Dtype())\n",
    "sharktank['Pitch Number'] = sharktank['Pitch Number'].astype(pd.Int32Dtype())\n",
    "\n",
    "sharktank['Startup Name'] = sharktank['Startup Name'].astype(str)\n",
    "sharktank['Industry'] = sharktank['Industry'].astype(str)\n",
    "sharktank['Business Description'] = sharktank['Business Description'].astype(str)\n",
    "\n",
    "sharktank['Multiple Entrepreneurs'] = sharktank['Multiple Entrepreneurs'].astype(pd.Int32Dtype())\n",
    "\n"
   ]
  },
  {
   "cell_type": "code",
   "execution_count": 37,
   "metadata": {},
   "outputs": [
    {
     "name": "stderr",
     "output_type": "stream",
     "text": [
      "/var/folders/2_/dkxg0fq56mv06fxh6723qjn00000gn/T/ipykernel_25625/2379972772.py:2: FutureWarning:\n",
      "\n",
      "The default value of numeric_only in DataFrame.corr is deprecated. In a future version, it will default to False. Select only valid columns or specify the value of numeric_only to silence this warning.\n",
      "\n"
     ]
    },
    {
     "data": {
      "text/html": [
       "\n",
       "<div id=\"altair-viz-9464516b705a4c1482a2db4cdd268bbe\"></div>\n",
       "<script type=\"text/javascript\">\n",
       "  var VEGA_DEBUG = (typeof VEGA_DEBUG == \"undefined\") ? {} : VEGA_DEBUG;\n",
       "  (function(spec, embedOpt){\n",
       "    let outputDiv = document.currentScript.previousElementSibling;\n",
       "    if (outputDiv.id !== \"altair-viz-9464516b705a4c1482a2db4cdd268bbe\") {\n",
       "      outputDiv = document.getElementById(\"altair-viz-9464516b705a4c1482a2db4cdd268bbe\");\n",
       "    }\n",
       "    const paths = {\n",
       "      \"vega\": \"https://cdn.jsdelivr.net/npm//vega@5?noext\",\n",
       "      \"vega-lib\": \"https://cdn.jsdelivr.net/npm//vega-lib?noext\",\n",
       "      \"vega-lite\": \"https://cdn.jsdelivr.net/npm//vega-lite@4.17.0?noext\",\n",
       "      \"vega-embed\": \"https://cdn.jsdelivr.net/npm//vega-embed@6?noext\",\n",
       "    };\n",
       "\n",
       "    function maybeLoadScript(lib, version) {\n",
       "      var key = `${lib.replace(\"-\", \"\")}_version`;\n",
       "      return (VEGA_DEBUG[key] == version) ?\n",
       "        Promise.resolve(paths[lib]) :\n",
       "        new Promise(function(resolve, reject) {\n",
       "          var s = document.createElement('script');\n",
       "          document.getElementsByTagName(\"head\")[0].appendChild(s);\n",
       "          s.async = true;\n",
       "          s.onload = () => {\n",
       "            VEGA_DEBUG[key] = version;\n",
       "            return resolve(paths[lib]);\n",
       "          };\n",
       "          s.onerror = () => reject(`Error loading script: ${paths[lib]}`);\n",
       "          s.src = paths[lib];\n",
       "        });\n",
       "    }\n",
       "\n",
       "    function showError(err) {\n",
       "      outputDiv.innerHTML = `<div class=\"error\" style=\"color:red;\">${err}</div>`;\n",
       "      throw err;\n",
       "    }\n",
       "\n",
       "    function displayChart(vegaEmbed) {\n",
       "      vegaEmbed(outputDiv, spec, embedOpt)\n",
       "        .catch(err => showError(`Javascript Error: ${err.message}<br>This usually means there's a typo in your chart specification. See the javascript console for the full traceback.`));\n",
       "    }\n",
       "\n",
       "    if(typeof define === \"function\" && define.amd) {\n",
       "      requirejs.config({paths});\n",
       "      require([\"vega-embed\"], displayChart, err => showError(`Error loading script: ${err.message}`));\n",
       "    } else {\n",
       "      maybeLoadScript(\"vega\", \"5\")\n",
       "        .then(() => maybeLoadScript(\"vega-lite\", \"4.17.0\"))\n",
       "        .then(() => maybeLoadScript(\"vega-embed\", \"6\"))\n",
       "        .catch(showError)\n",
       "        .then(() => displayChart(vegaEmbed));\n",
       "    }\n",
       "  })({\"config\": {\"view\": {\"continuousWidth\": 400, \"continuousHeight\": 300}}, \"data\": {\"name\": \"data-9a4395d44905d57703c8252f33103583\"}, \"mark\": \"rect\", \"encoding\": {\"color\": {\"field\": \"corr\", \"type\": \"quantitative\"}, \"x\": {\"field\": \"var1\", \"type\": \"nominal\"}, \"y\": {\"field\": \"var2\", \"type\": \"nominal\"}}, \"$schema\": \"https://vega.github.io/schema/vega-lite/v4.17.0.json\", \"datasets\": {\"data-9a4395d44905d57703c8252f33103583\": [{\"var1\": \"Season Number\", \"var2\": \"Season Number\", \"corr\": 1.0}, {\"var1\": \"Season Number\", \"var2\": \"Episode Number\", \"corr\": 0.14343282897972143}, {\"var1\": \"Season Number\", \"var2\": \"Pitch Number\", \"corr\": 0.9903739979772025}, {\"var1\": \"Season Number\", \"var2\": \"Multiple Entrepreneurs\", \"corr\": 0.0629708326931614}, {\"var1\": \"Season Number\", \"var2\": \"Original Offered Equity\", \"corr\": -0.35025878291893203}, {\"var1\": \"Season Number\", \"var2\": \"Got Deal\", \"corr\": 0.15100381573071742}, {\"var1\": \"Season Number\", \"var2\": \"Total Deal Equity\", \"corr\": -0.4103431237923241}, {\"var1\": \"Season Number\", \"var2\": \"Number of sharks in deal\", \"corr\": -0.1257823005472458}, {\"var1\": \"Season Number\", \"var2\": \"Investment Amount Per Shark\", \"corr\": 0.11369429292565447}, {\"var1\": \"Season Number\", \"var2\": \"Barbara Corcoran Investment Amount\", \"corr\": 0.3063085245208198}, {\"var1\": \"Season Number\", \"var2\": \"Mark Cuban Investment Amount\", \"corr\": 0.03584973867530483}, {\"var1\": \"Season Number\", \"var2\": \"Lori Greiner Investment Amount\", \"corr\": 0.15949426249360527}, {\"var1\": \"Season Number\", \"var2\": \"Robert Herjavec Investment Amount\", \"corr\": 0.10042382265240388}, {\"var1\": \"Season Number\", \"var2\": \"Daymond John Investment Amount\", \"corr\": 0.2129034319051508}, {\"var1\": \"Season Number\", \"var2\": \"Kevin O Leary Investment Amount\", \"corr\": 0.10191728632166641}, {\"var1\": \"Season Number\", \"var2\": \"Guest Investment Amount\", \"corr\": 0.2838583116615701}, {\"var1\": \"Season Number\", \"var2\": \"BarbaraCorcoran Present\", \"corr\": -0.28251159486286137}, {\"var1\": \"Season Number\", \"var2\": \"MarkCuban Present\", \"corr\": 0.5986455661113731}, {\"var1\": \"Season Number\", \"var2\": \"LoriGreiner Present\", \"corr\": 0.7041240556949239}, {\"var1\": \"Season Number\", \"var2\": \"RobertHerjavec Present\", \"corr\": -0.3786386388216618}, {\"var1\": \"Season Number\", \"var2\": \"DaymondJohn Present\", \"corr\": -0.3880269572919266}, {\"var1\": \"Season Number\", \"var2\": \"KevinOLeary Present\", \"corr\": -0.257443225725356}, {\"var1\": \"Season Number\", \"var2\": \"KevinHarrington Present\", \"corr\": -0.1752634833599636}, {\"var1\": \"Episode Number\", \"var2\": \"Season Number\", \"corr\": 0.14343282897972143}, {\"var1\": \"Episode Number\", \"var2\": \"Episode Number\", \"corr\": 1.0}, {\"var1\": \"Episode Number\", \"var2\": \"Pitch Number\", \"corr\": 0.21681935443782807}, {\"var1\": \"Episode Number\", \"var2\": \"Multiple Entrepreneurs\", \"corr\": 0.12747894376382832}, {\"var1\": \"Episode Number\", \"var2\": \"Original Offered Equity\", \"corr\": -0.05760490148050451}, {\"var1\": \"Episode Number\", \"var2\": \"Got Deal\", \"corr\": 0.0010202660351549316}, {\"var1\": \"Episode Number\", \"var2\": \"Total Deal Equity\", \"corr\": -0.08593008941892016}, {\"var1\": \"Episode Number\", \"var2\": \"Number of sharks in deal\", \"corr\": -0.11007874715232654}, {\"var1\": \"Episode Number\", \"var2\": \"Investment Amount Per Shark\", \"corr\": 0.08745121306797447}, {\"var1\": \"Episode Number\", \"var2\": \"Barbara Corcoran Investment Amount\", \"corr\": 0.18290396227648856}, {\"var1\": \"Episode Number\", \"var2\": \"Mark Cuban Investment Amount\", \"corr\": -0.03752465690579654}, {\"var1\": \"Episode Number\", \"var2\": \"Lori Greiner Investment Amount\", \"corr\": -0.046442748253912036}, {\"var1\": \"Episode Number\", \"var2\": \"Robert Herjavec Investment Amount\", \"corr\": 0.2872866152036607}, {\"var1\": \"Episode Number\", \"var2\": \"Daymond John Investment Amount\", \"corr\": 0.05056887717826507}, {\"var1\": \"Episode Number\", \"var2\": \"Kevin O Leary Investment Amount\", \"corr\": 0.007871870002876024}, {\"var1\": \"Episode Number\", \"var2\": \"Guest Investment Amount\", \"corr\": 0.07276162674310349}, {\"var1\": \"Episode Number\", \"var2\": \"BarbaraCorcoran Present\", \"corr\": -0.07802948851999986}, {\"var1\": \"Episode Number\", \"var2\": \"MarkCuban Present\", \"corr\": 0.24529149169416797}, {\"var1\": \"Episode Number\", \"var2\": \"LoriGreiner Present\", \"corr\": 0.19835836360478895}, {\"var1\": \"Episode Number\", \"var2\": \"RobertHerjavec Present\", \"corr\": 0.01722958687338874}, {\"var1\": \"Episode Number\", \"var2\": \"DaymondJohn Present\", \"corr\": -0.08820662402403914}, {\"var1\": \"Episode Number\", \"var2\": \"KevinOLeary Present\", \"corr\": -0.0318454707835312}, {\"var1\": \"Episode Number\", \"var2\": \"KevinHarrington Present\", \"corr\": 0.007167480383799627}, {\"var1\": \"Pitch Number\", \"var2\": \"Season Number\", \"corr\": 0.9903739979772025}, {\"var1\": \"Pitch Number\", \"var2\": \"Episode Number\", \"corr\": 0.21681935443782807}, {\"var1\": \"Pitch Number\", \"var2\": \"Pitch Number\", \"corr\": 1.0}, {\"var1\": \"Pitch Number\", \"var2\": \"Multiple Entrepreneurs\", \"corr\": 0.08293099332641704}, {\"var1\": \"Pitch Number\", \"var2\": \"Original Offered Equity\", \"corr\": -0.3447808484229776}, {\"var1\": \"Pitch Number\", \"var2\": \"Got Deal\", \"corr\": 0.14813974610102212}, {\"var1\": \"Pitch Number\", \"var2\": \"Total Deal Equity\", \"corr\": -0.39391756287034435}, {\"var1\": \"Pitch Number\", \"var2\": \"Number of sharks in deal\", \"corr\": -0.13092415373557426}, {\"var1\": \"Pitch Number\", \"var2\": \"Investment Amount Per Shark\", \"corr\": 0.11797701413752054}, {\"var1\": \"Pitch Number\", \"var2\": \"Barbara Corcoran Investment Amount\", \"corr\": 0.3179064336040475}, {\"var1\": \"Pitch Number\", \"var2\": \"Mark Cuban Investment Amount\", \"corr\": 0.03292089495298944}, {\"var1\": \"Pitch Number\", \"var2\": \"Lori Greiner Investment Amount\", \"corr\": 0.1574235376261344}, {\"var1\": \"Pitch Number\", \"var2\": \"Robert Herjavec Investment Amount\", \"corr\": 0.12129061972082458}, {\"var1\": \"Pitch Number\", \"var2\": \"Daymond John Investment Amount\", \"corr\": 0.22599189307957349}, {\"var1\": \"Pitch Number\", \"var2\": \"Kevin O Leary Investment Amount\", \"corr\": 0.09576846724692613}, {\"var1\": \"Pitch Number\", \"var2\": \"Guest Investment Amount\", \"corr\": 0.29818231236464177}, {\"var1\": \"Pitch Number\", \"var2\": \"BarbaraCorcoran Present\", \"corr\": -0.2586040717220816}, {\"var1\": \"Pitch Number\", \"var2\": \"MarkCuban Present\", \"corr\": 0.512701349715068}, {\"var1\": \"Pitch Number\", \"var2\": \"LoriGreiner Present\", \"corr\": 0.67168952005887}, {\"var1\": \"Pitch Number\", \"var2\": \"RobertHerjavec Present\", \"corr\": -0.3794503184353141}, {\"var1\": \"Pitch Number\", \"var2\": \"DaymondJohn Present\", \"corr\": -0.3821307912381358}, {\"var1\": \"Pitch Number\", \"var2\": \"KevinOLeary Present\", \"corr\": -0.26948573044609186}, {\"var1\": \"Pitch Number\", \"var2\": \"KevinHarrington Present\", \"corr\": -0.1913434341627084}, {\"var1\": \"Multiple Entrepreneurs\", \"var2\": \"Season Number\", \"corr\": 0.0629708326931614}, {\"var1\": \"Multiple Entrepreneurs\", \"var2\": \"Episode Number\", \"corr\": 0.12747894376382832}, {\"var1\": \"Multiple Entrepreneurs\", \"var2\": \"Pitch Number\", \"corr\": 0.08293099332641704}, {\"var1\": \"Multiple Entrepreneurs\", \"var2\": \"Multiple Entrepreneurs\", \"corr\": 1.0}, {\"var1\": \"Multiple Entrepreneurs\", \"var2\": \"Original Offered Equity\", \"corr\": -0.05623383918559967}, {\"var1\": \"Multiple Entrepreneurs\", \"var2\": \"Got Deal\", \"corr\": 0.05185367344754347}, {\"var1\": \"Multiple Entrepreneurs\", \"var2\": \"Total Deal Equity\", \"corr\": -0.13128536570482432}, {\"var1\": \"Multiple Entrepreneurs\", \"var2\": \"Number of sharks in deal\", \"corr\": 0.058976921151378287}, {\"var1\": \"Multiple Entrepreneurs\", \"var2\": \"Investment Amount Per Shark\", \"corr\": 0.06077171549044373}, {\"var1\": \"Multiple Entrepreneurs\", \"var2\": \"Barbara Corcoran Investment Amount\", \"corr\": -0.015489193417367483}, {\"var1\": \"Multiple Entrepreneurs\", \"var2\": \"Mark Cuban Investment Amount\", \"corr\": 0.06273446697582492}, {\"var1\": \"Multiple Entrepreneurs\", \"var2\": \"Lori Greiner Investment Amount\", \"corr\": 0.07096595296487439}, {\"var1\": \"Multiple Entrepreneurs\", \"var2\": \"Robert Herjavec Investment Amount\", \"corr\": 0.10001195341666477}, {\"var1\": \"Multiple Entrepreneurs\", \"var2\": \"Daymond John Investment Amount\", \"corr\": -0.04335888909540025}, {\"var1\": \"Multiple Entrepreneurs\", \"var2\": \"Kevin O Leary Investment Amount\", \"corr\": -0.07700171263765729}, {\"var1\": \"Multiple Entrepreneurs\", \"var2\": \"Guest Investment Amount\", \"corr\": -0.07372097807744858}, {\"var1\": \"Multiple Entrepreneurs\", \"var2\": \"BarbaraCorcoran Present\", \"corr\": 0.01731184760440588}, {\"var1\": \"Multiple Entrepreneurs\", \"var2\": \"MarkCuban Present\", \"corr\": 0.05213523170405807}, {\"var1\": \"Multiple Entrepreneurs\", \"var2\": \"LoriGreiner Present\", \"corr\": 0.019604196455466665}, {\"var1\": \"Multiple Entrepreneurs\", \"var2\": \"RobertHerjavec Present\", \"corr\": 0.05374162957315706}, {\"var1\": \"Multiple Entrepreneurs\", \"var2\": \"DaymondJohn Present\", \"corr\": -0.04418136174250357}, {\"var1\": \"Multiple Entrepreneurs\", \"var2\": \"KevinHarrington Present\", \"corr\": 0.02058830619391473}, {\"var1\": \"Original Offered Equity\", \"var2\": \"Season Number\", \"corr\": -0.35025878291893203}, {\"var1\": \"Original Offered Equity\", \"var2\": \"Episode Number\", \"corr\": -0.05760490148050451}, {\"var1\": \"Original Offered Equity\", \"var2\": \"Pitch Number\", \"corr\": -0.3447808484229776}, {\"var1\": \"Original Offered Equity\", \"var2\": \"Multiple Entrepreneurs\", \"corr\": -0.05623383918559967}, {\"var1\": \"Original Offered Equity\", \"var2\": \"Original Offered Equity\", \"corr\": 1.0}, {\"var1\": \"Original Offered Equity\", \"var2\": \"Got Deal\", \"corr\": -0.1032732661289033}, {\"var1\": \"Original Offered Equity\", \"var2\": \"Total Deal Equity\", \"corr\": 0.6196468841374106}, {\"var1\": \"Original Offered Equity\", \"var2\": \"Number of sharks in deal\", \"corr\": 0.02104695105821208}, {\"var1\": \"Original Offered Equity\", \"var2\": \"Investment Amount Per Shark\", \"corr\": -0.08790577543309551}, {\"var1\": \"Original Offered Equity\", \"var2\": \"Barbara Corcoran Investment Amount\", \"corr\": -0.11907138784818497}, {\"var1\": \"Original Offered Equity\", \"var2\": \"Mark Cuban Investment Amount\", \"corr\": -0.18201127185320848}, {\"var1\": \"Original Offered Equity\", \"var2\": \"Lori Greiner Investment Amount\", \"corr\": -0.32843371822245565}, {\"var1\": \"Original Offered Equity\", \"var2\": \"Robert Herjavec Investment Amount\", \"corr\": 0.33692942634432815}, {\"var1\": \"Original Offered Equity\", \"var2\": \"Daymond John Investment Amount\", \"corr\": -0.2170260415065086}, {\"var1\": \"Original Offered Equity\", \"var2\": \"Kevin O Leary Investment Amount\", \"corr\": -0.2005197574980094}, {\"var1\": \"Original Offered Equity\", \"var2\": \"Guest Investment Amount\", \"corr\": -0.2692499351767872}, {\"var1\": \"Original Offered Equity\", \"var2\": \"BarbaraCorcoran Present\", \"corr\": 0.11132964451159055}, {\"var1\": \"Original Offered Equity\", \"var2\": \"MarkCuban Present\", \"corr\": -0.22627940880455888}, {\"var1\": \"Original Offered Equity\", \"var2\": \"LoriGreiner Present\", \"corr\": -0.2606538886515514}, {\"var1\": \"Original Offered Equity\", \"var2\": \"RobertHerjavec Present\", \"corr\": 0.1663261442659142}, {\"var1\": \"Original Offered Equity\", \"var2\": \"DaymondJohn Present\", \"corr\": 0.14605494398941687}, {\"var1\": \"Original Offered Equity\", \"var2\": \"KevinOLeary Present\", \"corr\": 0.10518635907838353}, {\"var1\": \"Original Offered Equity\", \"var2\": \"KevinHarrington Present\", \"corr\": 0.07559646714259642}, {\"var1\": \"Got Deal\", \"var2\": \"Season Number\", \"corr\": 0.15100381573071742}, {\"var1\": \"Got Deal\", \"var2\": \"Episode Number\", \"corr\": 0.0010202660351549316}, {\"var1\": \"Got Deal\", \"var2\": \"Pitch Number\", \"corr\": 0.14813974610102212}, {\"var1\": \"Got Deal\", \"var2\": \"Multiple Entrepreneurs\", \"corr\": 0.05185367344754347}, {\"var1\": \"Got Deal\", \"var2\": \"Original Offered Equity\", \"corr\": -0.1032732661289033}, {\"var1\": \"Got Deal\", \"var2\": \"Got Deal\", \"corr\": 1.0}, {\"var1\": \"Got Deal\", \"var2\": \"Total Deal Equity\", \"corr\": 0.03168850552549306}, {\"var1\": \"Got Deal\", \"var2\": \"Number of sharks in deal\", \"corr\": 0.037247147348026484}, {\"var1\": \"Got Deal\", \"var2\": \"Investment Amount Per Shark\", \"corr\": 0.01966810651989014}, {\"var1\": \"Got Deal\", \"var2\": \"Barbara Corcoran Investment Amount\", \"corr\": -0.1184535075535545}, {\"var1\": \"Got Deal\", \"var2\": \"Robert Herjavec Investment Amount\", \"corr\": 0.02413152403333582}, {\"var1\": \"Got Deal\", \"var2\": \"Guest Investment Amount\", \"corr\": 0.11614113689130688}, {\"var1\": \"Got Deal\", \"var2\": \"BarbaraCorcoran Present\", \"corr\": -0.04082422461783814}, {\"var1\": \"Got Deal\", \"var2\": \"MarkCuban Present\", \"corr\": 0.06847814271764842}, {\"var1\": \"Got Deal\", \"var2\": \"LoriGreiner Present\", \"corr\": 0.12406374266017232}, {\"var1\": \"Got Deal\", \"var2\": \"RobertHerjavec Present\", \"corr\": -0.05816622634520913}, {\"var1\": \"Got Deal\", \"var2\": \"DaymondJohn Present\", \"corr\": -0.07365967150747307}, {\"var1\": \"Got Deal\", \"var2\": \"KevinOLeary Present\", \"corr\": -0.04026401460982877}, {\"var1\": \"Got Deal\", \"var2\": \"KevinHarrington Present\", \"corr\": -0.032332418498681854}, {\"var1\": \"Total Deal Equity\", \"var2\": \"Season Number\", \"corr\": -0.4103431237923241}, {\"var1\": \"Total Deal Equity\", \"var2\": \"Episode Number\", \"corr\": -0.08593008941892016}, {\"var1\": \"Total Deal Equity\", \"var2\": \"Pitch Number\", \"corr\": -0.39391756287034435}, {\"var1\": \"Total Deal Equity\", \"var2\": \"Multiple Entrepreneurs\", \"corr\": -0.13128536570482432}, {\"var1\": \"Total Deal Equity\", \"var2\": \"Original Offered Equity\", \"corr\": 0.6196468841374106}, {\"var1\": \"Total Deal Equity\", \"var2\": \"Got Deal\", \"corr\": 0.03168850552549306}, {\"var1\": \"Total Deal Equity\", \"var2\": \"Total Deal Equity\", \"corr\": 1.0}, {\"var1\": \"Total Deal Equity\", \"var2\": \"Number of sharks in deal\", \"corr\": 0.1239552614005994}, {\"var1\": \"Total Deal Equity\", \"var2\": \"Investment Amount Per Shark\", \"corr\": -0.0401600916922905}, {\"var1\": \"Total Deal Equity\", \"var2\": \"Barbara Corcoran Investment Amount\", \"corr\": -0.26357366699094475}, {\"var1\": \"Total Deal Equity\", \"var2\": \"Mark Cuban Investment Amount\", \"corr\": -0.09363909308765997}, {\"var1\": \"Total Deal Equity\", \"var2\": \"Lori Greiner Investment Amount\", \"corr\": -0.38693705950194673}, {\"var1\": \"Total Deal Equity\", \"var2\": \"Robert Herjavec Investment Amount\", \"corr\": 0.06626461363257682}, {\"var1\": \"Total Deal Equity\", \"var2\": \"Daymond John Investment Amount\", \"corr\": 0.2709066966814902}, {\"var1\": \"Total Deal Equity\", \"var2\": \"Kevin O Leary Investment Amount\", \"corr\": -0.27389803527922074}, {\"var1\": \"Total Deal Equity\", \"var2\": \"Guest Investment Amount\", \"corr\": -0.18701140485543702}, {\"var1\": \"Total Deal Equity\", \"var2\": \"BarbaraCorcoran Present\", \"corr\": 0.12153208312419447}, {\"var1\": \"Total Deal Equity\", \"var2\": \"MarkCuban Present\", \"corr\": -0.34140127559830524}, {\"var1\": \"Total Deal Equity\", \"var2\": \"LoriGreiner Present\", \"corr\": -0.3485215739807382}, {\"var1\": \"Total Deal Equity\", \"var2\": \"RobertHerjavec Present\", \"corr\": 0.19393697938508594}, {\"var1\": \"Total Deal Equity\", \"var2\": \"DaymondJohn Present\", \"corr\": 0.1870542351011159}, {\"var1\": \"Total Deal Equity\", \"var2\": \"KevinOLeary Present\", \"corr\": 0.13540585648624423}, {\"var1\": \"Total Deal Equity\", \"var2\": \"KevinHarrington Present\", \"corr\": 0.10998840572719655}, {\"var1\": \"Number of sharks in deal\", \"var2\": \"Season Number\", \"corr\": -0.1257823005472458}, {\"var1\": \"Number of sharks in deal\", \"var2\": \"Episode Number\", \"corr\": -0.11007874715232654}, {\"var1\": \"Number of sharks in deal\", \"var2\": \"Pitch Number\", \"corr\": -0.13092415373557426}, {\"var1\": \"Number of sharks in deal\", \"var2\": \"Multiple Entrepreneurs\", \"corr\": 0.058976921151378287}, {\"var1\": \"Number of sharks in deal\", \"var2\": \"Original Offered Equity\", \"corr\": 0.02104695105821208}, {\"var1\": \"Number of sharks in deal\", \"var2\": \"Got Deal\", \"corr\": 0.037247147348026484}, {\"var1\": \"Number of sharks in deal\", \"var2\": \"Total Deal Equity\", \"corr\": 0.1239552614005994}, {\"var1\": \"Number of sharks in deal\", \"var2\": \"Number of sharks in deal\", \"corr\": 1.0}, {\"var1\": \"Number of sharks in deal\", \"var2\": \"Investment Amount Per Shark\", \"corr\": -0.1440135729775527}, {\"var1\": \"Number of sharks in deal\", \"var2\": \"Barbara Corcoran Investment Amount\", \"corr\": -0.05816181906156541}, {\"var1\": \"Number of sharks in deal\", \"var2\": \"Mark Cuban Investment Amount\", \"corr\": -0.24551759687629857}, {\"var1\": \"Number of sharks in deal\", \"var2\": \"Lori Greiner Investment Amount\", \"corr\": -0.19973190999981197}, {\"var1\": \"Number of sharks in deal\", \"var2\": \"Robert Herjavec Investment Amount\", \"corr\": -0.176238266695363}, {\"var1\": \"Number of sharks in deal\", \"var2\": \"Daymond John Investment Amount\", \"corr\": -0.13968764005203474}, {\"var1\": \"Number of sharks in deal\", \"var2\": \"Kevin O Leary Investment Amount\", \"corr\": -0.22616106655675844}, {\"var1\": \"Number of sharks in deal\", \"var2\": \"Guest Investment Amount\", \"corr\": -0.3578146522840623}, {\"var1\": \"Number of sharks in deal\", \"var2\": \"BarbaraCorcoran Present\", \"corr\": 0.009424782141612074}, {\"var1\": \"Number of sharks in deal\", \"var2\": \"MarkCuban Present\", \"corr\": -0.0815584889368582}, {\"var1\": \"Number of sharks in deal\", \"var2\": \"LoriGreiner Present\", \"corr\": -0.1130272706982916}, {\"var1\": \"Number of sharks in deal\", \"var2\": \"RobertHerjavec Present\", \"corr\": -0.019573507361667977}, {\"var1\": \"Number of sharks in deal\", \"var2\": \"DaymondJohn Present\", \"corr\": 0.04014206030076728}, {\"var1\": \"Number of sharks in deal\", \"var2\": \"KevinOLeary Present\", \"corr\": -0.012154592290534262}, {\"var1\": \"Number of sharks in deal\", \"var2\": \"KevinHarrington Present\", \"corr\": -0.007187484249360756}, {\"var1\": \"Investment Amount Per Shark\", \"var2\": \"Season Number\", \"corr\": 0.11369429292565447}, {\"var1\": \"Investment Amount Per Shark\", \"var2\": \"Episode Number\", \"corr\": 0.08745121306797447}, {\"var1\": \"Investment Amount Per Shark\", \"var2\": \"Pitch Number\", \"corr\": 0.11797701413752054}, {\"var1\": \"Investment Amount Per Shark\", \"var2\": \"Multiple Entrepreneurs\", \"corr\": 0.06077171549044373}, {\"var1\": \"Investment Amount Per Shark\", \"var2\": \"Original Offered Equity\", \"corr\": -0.08790577543309551}, {\"var1\": \"Investment Amount Per Shark\", \"var2\": \"Got Deal\", \"corr\": 0.01966810651989014}, {\"var1\": \"Investment Amount Per Shark\", \"var2\": \"Total Deal Equity\", \"corr\": -0.0401600916922905}, {\"var1\": \"Investment Amount Per Shark\", \"var2\": \"Number of sharks in deal\", \"corr\": -0.1440135729775527}, {\"var1\": \"Investment Amount Per Shark\", \"var2\": \"Investment Amount Per Shark\", \"corr\": 1.0}, {\"var1\": \"Investment Amount Per Shark\", \"var2\": \"Barbara Corcoran Investment Amount\", \"corr\": 1.0}, {\"var1\": \"Investment Amount Per Shark\", \"var2\": \"Mark Cuban Investment Amount\", \"corr\": 1.0}, {\"var1\": \"Investment Amount Per Shark\", \"var2\": \"Lori Greiner Investment Amount\", \"corr\": 1.0}, {\"var1\": \"Investment Amount Per Shark\", \"var2\": \"Robert Herjavec Investment Amount\", \"corr\": 1.0}, {\"var1\": \"Investment Amount Per Shark\", \"var2\": \"Daymond John Investment Amount\", \"corr\": 1.0}, {\"var1\": \"Investment Amount Per Shark\", \"var2\": \"Kevin O Leary Investment Amount\", \"corr\": 1.0}, {\"var1\": \"Investment Amount Per Shark\", \"var2\": \"Guest Investment Amount\", \"corr\": 1.0}, {\"var1\": \"Investment Amount Per Shark\", \"var2\": \"BarbaraCorcoran Present\", \"corr\": -0.034484828951861814}, {\"var1\": \"Investment Amount Per Shark\", \"var2\": \"MarkCuban Present\", \"corr\": 0.09393330272252279}, {\"var1\": \"Investment Amount Per Shark\", \"var2\": \"LoriGreiner Present\", \"corr\": 0.09856931730840064}, {\"var1\": \"Investment Amount Per Shark\", \"var2\": \"RobertHerjavec Present\", \"corr\": -0.024161284892404163}, {\"var1\": \"Investment Amount Per Shark\", \"var2\": \"DaymondJohn Present\", \"corr\": -0.006555831548006147}, {\"var1\": \"Investment Amount Per Shark\", \"var2\": \"KevinOLeary Present\", \"corr\": -0.052534208117345126}, {\"var1\": \"Investment Amount Per Shark\", \"var2\": \"KevinHarrington Present\", \"corr\": -0.030819865601138276}, {\"var1\": \"Barbara Corcoran Investment Amount\", \"var2\": \"Season Number\", \"corr\": 0.3063085245208198}, {\"var1\": \"Barbara Corcoran Investment Amount\", \"var2\": \"Episode Number\", \"corr\": 0.18290396227648856}, {\"var1\": \"Barbara Corcoran Investment Amount\", \"var2\": \"Pitch Number\", \"corr\": 0.3179064336040475}, {\"var1\": \"Barbara Corcoran Investment Amount\", \"var2\": \"Multiple Entrepreneurs\", \"corr\": -0.015489193417367483}, {\"var1\": \"Barbara Corcoran Investment Amount\", \"var2\": \"Original Offered Equity\", \"corr\": -0.11907138784818497}, {\"var1\": \"Barbara Corcoran Investment Amount\", \"var2\": \"Got Deal\", \"corr\": -0.1184535075535545}, {\"var1\": \"Barbara Corcoran Investment Amount\", \"var2\": \"Total Deal Equity\", \"corr\": -0.26357366699094475}, {\"var1\": \"Barbara Corcoran Investment Amount\", \"var2\": \"Number of sharks in deal\", \"corr\": -0.05816181906156541}, {\"var1\": \"Barbara Corcoran Investment Amount\", \"var2\": \"Investment Amount Per Shark\", \"corr\": 1.0}, {\"var1\": \"Barbara Corcoran Investment Amount\", \"var2\": \"Barbara Corcoran Investment Amount\", \"corr\": 1.0}, {\"var1\": \"Barbara Corcoran Investment Amount\", \"var2\": \"Mark Cuban Investment Amount\", \"corr\": 1.0}, {\"var1\": \"Barbara Corcoran Investment Amount\", \"var2\": \"Robert Herjavec Investment Amount\", \"corr\": 1.0}, {\"var1\": \"Barbara Corcoran Investment Amount\", \"var2\": \"Daymond John Investment Amount\", \"corr\": 1.0}, {\"var1\": \"Barbara Corcoran Investment Amount\", \"var2\": \"Kevin O Leary Investment Amount\", \"corr\": 1.0}, {\"var1\": \"Barbara Corcoran Investment Amount\", \"var2\": \"Guest Investment Amount\", \"corr\": 1.0}, {\"var1\": \"Barbara Corcoran Investment Amount\", \"var2\": \"BarbaraCorcoran Present\", \"corr\": -0.45340854643243605}, {\"var1\": \"Barbara Corcoran Investment Amount\", \"var2\": \"MarkCuban Present\", \"corr\": 0.19259603912726853}, {\"var1\": \"Barbara Corcoran Investment Amount\", \"var2\": \"LoriGreiner Present\", \"corr\": 0.23886269953224878}, {\"var1\": \"Barbara Corcoran Investment Amount\", \"var2\": \"RobertHerjavec Present\", \"corr\": -0.1564386466636539}, {\"var1\": \"Barbara Corcoran Investment Amount\", \"var2\": \"DaymondJohn Present\", \"corr\": -0.054390233230041087}, {\"var1\": \"Barbara Corcoran Investment Amount\", \"var2\": \"KevinOLeary Present\", \"corr\": -0.08393847698514592}, {\"var1\": \"Barbara Corcoran Investment Amount\", \"var2\": \"KevinHarrington Present\", \"corr\": -0.0033371953589126924}, {\"var1\": \"Mark Cuban Investment Amount\", \"var2\": \"Season Number\", \"corr\": 0.03584973867530483}, {\"var1\": \"Mark Cuban Investment Amount\", \"var2\": \"Episode Number\", \"corr\": -0.03752465690579654}, {\"var1\": \"Mark Cuban Investment Amount\", \"var2\": \"Pitch Number\", \"corr\": 0.03292089495298944}, {\"var1\": \"Mark Cuban Investment Amount\", \"var2\": \"Multiple Entrepreneurs\", \"corr\": 0.06273446697582492}, {\"var1\": \"Mark Cuban Investment Amount\", \"var2\": \"Original Offered Equity\", \"corr\": -0.18201127185320848}, {\"var1\": \"Mark Cuban Investment Amount\", \"var2\": \"Total Deal Equity\", \"corr\": -0.09363909308765997}, {\"var1\": \"Mark Cuban Investment Amount\", \"var2\": \"Number of sharks in deal\", \"corr\": -0.24551759687629857}, {\"var1\": \"Mark Cuban Investment Amount\", \"var2\": \"Investment Amount Per Shark\", \"corr\": 1.0}, {\"var1\": \"Mark Cuban Investment Amount\", \"var2\": \"Barbara Corcoran Investment Amount\", \"corr\": 1.0}, {\"var1\": \"Mark Cuban Investment Amount\", \"var2\": \"Mark Cuban Investment Amount\", \"corr\": 1.0}, {\"var1\": \"Mark Cuban Investment Amount\", \"var2\": \"Lori Greiner Investment Amount\", \"corr\": 1.0}, {\"var1\": \"Mark Cuban Investment Amount\", \"var2\": \"Robert Herjavec Investment Amount\", \"corr\": 1.0}, {\"var1\": \"Mark Cuban Investment Amount\", \"var2\": \"Daymond John Investment Amount\", \"corr\": 1.0}, {\"var1\": \"Mark Cuban Investment Amount\", \"var2\": \"Kevin O Leary Investment Amount\", \"corr\": 1.0}, {\"var1\": \"Mark Cuban Investment Amount\", \"var2\": \"Guest Investment Amount\", \"corr\": 1.0}, {\"var1\": \"Mark Cuban Investment Amount\", \"var2\": \"BarbaraCorcoran Present\", \"corr\": 0.09481163832270086}, {\"var1\": \"Mark Cuban Investment Amount\", \"var2\": \"MarkCuban Present\", \"corr\": 0.055023120970403475}, {\"var1\": \"Mark Cuban Investment Amount\", \"var2\": \"LoriGreiner Present\", \"corr\": 0.04038546565608179}, {\"var1\": \"Mark Cuban Investment Amount\", \"var2\": \"RobertHerjavec Present\", \"corr\": -0.06942027063551855}, {\"var1\": \"Mark Cuban Investment Amount\", \"var2\": \"DaymondJohn Present\", \"corr\": -0.06217354284634703}, {\"var1\": \"Mark Cuban Investment Amount\", \"var2\": \"KevinOLeary Present\", \"corr\": 0.02799700041855811}, {\"var1\": \"Mark Cuban Investment Amount\", \"var2\": \"KevinHarrington Present\", \"corr\": 0.02799700041855811}, {\"var1\": \"Lori Greiner Investment Amount\", \"var2\": \"Season Number\", \"corr\": 0.15949426249360527}, {\"var1\": \"Lori Greiner Investment Amount\", \"var2\": \"Episode Number\", \"corr\": -0.046442748253912036}, {\"var1\": \"Lori Greiner Investment Amount\", \"var2\": \"Pitch Number\", \"corr\": 0.1574235376261344}, {\"var1\": \"Lori Greiner Investment Amount\", \"var2\": \"Multiple Entrepreneurs\", \"corr\": 0.07096595296487439}, {\"var1\": \"Lori Greiner Investment Amount\", \"var2\": \"Original Offered Equity\", \"corr\": -0.32843371822245565}, {\"var1\": \"Lori Greiner Investment Amount\", \"var2\": \"Total Deal Equity\", \"corr\": -0.38693705950194673}, {\"var1\": \"Lori Greiner Investment Amount\", \"var2\": \"Number of sharks in deal\", \"corr\": -0.19973190999981197}, {\"var1\": \"Lori Greiner Investment Amount\", \"var2\": \"Investment Amount Per Shark\", \"corr\": 1.0}, {\"var1\": \"Lori Greiner Investment Amount\", \"var2\": \"Mark Cuban Investment Amount\", \"corr\": 1.0}, {\"var1\": \"Lori Greiner Investment Amount\", \"var2\": \"Lori Greiner Investment Amount\", \"corr\": 1.0}, {\"var1\": \"Lori Greiner Investment Amount\", \"var2\": \"Robert Herjavec Investment Amount\", \"corr\": 1.0}, {\"var1\": \"Lori Greiner Investment Amount\", \"var2\": \"Daymond John Investment Amount\", \"corr\": 1.0}, {\"var1\": \"Lori Greiner Investment Amount\", \"var2\": \"Kevin O Leary Investment Amount\", \"corr\": 1.0}, {\"var1\": \"Lori Greiner Investment Amount\", \"var2\": \"Guest Investment Amount\", \"corr\": 1.0}, {\"var1\": \"Lori Greiner Investment Amount\", \"var2\": \"BarbaraCorcoran Present\", \"corr\": 0.11238194430798784}, {\"var1\": \"Lori Greiner Investment Amount\", \"var2\": \"RobertHerjavec Present\", \"corr\": -0.1268773840467609}, {\"var1\": \"Lori Greiner Investment Amount\", \"var2\": \"DaymondJohn Present\", \"corr\": -0.0010719277312645024}, {\"var1\": \"Lori Greiner Investment Amount\", \"var2\": \"KevinOLeary Present\", \"corr\": -0.16662415296715538}, {\"var1\": \"Lori Greiner Investment Amount\", \"var2\": \"KevinHarrington Present\", \"corr\": -0.16662415296715538}, {\"var1\": \"Robert Herjavec Investment Amount\", \"var2\": \"Season Number\", \"corr\": 0.10042382265240388}, {\"var1\": \"Robert Herjavec Investment Amount\", \"var2\": \"Episode Number\", \"corr\": 0.2872866152036607}, {\"var1\": \"Robert Herjavec Investment Amount\", \"var2\": \"Pitch Number\", \"corr\": 0.12129061972082458}, {\"var1\": \"Robert Herjavec Investment Amount\", \"var2\": \"Multiple Entrepreneurs\", \"corr\": 0.10001195341666477}, {\"var1\": \"Robert Herjavec Investment Amount\", \"var2\": \"Original Offered Equity\", \"corr\": 0.33692942634432815}, {\"var1\": \"Robert Herjavec Investment Amount\", \"var2\": \"Got Deal\", \"corr\": 0.02413152403333582}, {\"var1\": \"Robert Herjavec Investment Amount\", \"var2\": \"Total Deal Equity\", \"corr\": 0.06626461363257682}, {\"var1\": \"Robert Herjavec Investment Amount\", \"var2\": \"Number of sharks in deal\", \"corr\": -0.176238266695363}, {\"var1\": \"Robert Herjavec Investment Amount\", \"var2\": \"Investment Amount Per Shark\", \"corr\": 1.0}, {\"var1\": \"Robert Herjavec Investment Amount\", \"var2\": \"Barbara Corcoran Investment Amount\", \"corr\": 1.0}, {\"var1\": \"Robert Herjavec Investment Amount\", \"var2\": \"Mark Cuban Investment Amount\", \"corr\": 1.0}, {\"var1\": \"Robert Herjavec Investment Amount\", \"var2\": \"Lori Greiner Investment Amount\", \"corr\": 1.0}, {\"var1\": \"Robert Herjavec Investment Amount\", \"var2\": \"Robert Herjavec Investment Amount\", \"corr\": 1.0}, {\"var1\": \"Robert Herjavec Investment Amount\", \"var2\": \"Daymond John Investment Amount\", \"corr\": 1.0}, {\"var1\": \"Robert Herjavec Investment Amount\", \"var2\": \"Kevin O Leary Investment Amount\", \"corr\": 1.0}, {\"var1\": \"Robert Herjavec Investment Amount\", \"var2\": \"BarbaraCorcoran Present\", \"corr\": -0.13292807843660015}, {\"var1\": \"Robert Herjavec Investment Amount\", \"var2\": \"MarkCuban Present\", \"corr\": 0.1133387860365777}, {\"var1\": \"Robert Herjavec Investment Amount\", \"var2\": \"LoriGreiner Present\", \"corr\": 0.15516005752516046}, {\"var1\": \"Robert Herjavec Investment Amount\", \"var2\": \"RobertHerjavec Present\", \"corr\": 0.03749457553499863}, {\"var1\": \"Robert Herjavec Investment Amount\", \"var2\": \"DaymondJohn Present\", \"corr\": 0.00971841811335066}, {\"var1\": \"Robert Herjavec Investment Amount\", \"var2\": \"KevinOLeary Present\", \"corr\": 0.0494933825550325}, {\"var1\": \"Robert Herjavec Investment Amount\", \"var2\": \"KevinHarrington Present\", \"corr\": 0.06471841160836082}, {\"var1\": \"Daymond John Investment Amount\", \"var2\": \"Season Number\", \"corr\": 0.2129034319051508}, {\"var1\": \"Daymond John Investment Amount\", \"var2\": \"Episode Number\", \"corr\": 0.05056887717826507}, {\"var1\": \"Daymond John Investment Amount\", \"var2\": \"Pitch Number\", \"corr\": 0.22599189307957349}, {\"var1\": \"Daymond John Investment Amount\", \"var2\": \"Multiple Entrepreneurs\", \"corr\": -0.04335888909540025}, {\"var1\": \"Daymond John Investment Amount\", \"var2\": \"Original Offered Equity\", \"corr\": -0.2170260415065086}, {\"var1\": \"Daymond John Investment Amount\", \"var2\": \"Total Deal Equity\", \"corr\": 0.2709066966814902}, {\"var1\": \"Daymond John Investment Amount\", \"var2\": \"Number of sharks in deal\", \"corr\": -0.13968764005203474}, {\"var1\": \"Daymond John Investment Amount\", \"var2\": \"Investment Amount Per Shark\", \"corr\": 1.0}, {\"var1\": \"Daymond John Investment Amount\", \"var2\": \"Barbara Corcoran Investment Amount\", \"corr\": 1.0}, {\"var1\": \"Daymond John Investment Amount\", \"var2\": \"Mark Cuban Investment Amount\", \"corr\": 1.0}, {\"var1\": \"Daymond John Investment Amount\", \"var2\": \"Lori Greiner Investment Amount\", \"corr\": 1.0}, {\"var1\": \"Daymond John Investment Amount\", \"var2\": \"Robert Herjavec Investment Amount\", \"corr\": 1.0}, {\"var1\": \"Daymond John Investment Amount\", \"var2\": \"Daymond John Investment Amount\", \"corr\": 1.0}, {\"var1\": \"Daymond John Investment Amount\", \"var2\": \"Kevin O Leary Investment Amount\", \"corr\": 1.0}, {\"var1\": \"Daymond John Investment Amount\", \"var2\": \"Guest Investment Amount\", \"corr\": 1.0}, {\"var1\": \"Daymond John Investment Amount\", \"var2\": \"BarbaraCorcoran Present\", \"corr\": -0.11304065811439709}, {\"var1\": \"Daymond John Investment Amount\", \"var2\": \"MarkCuban Present\", \"corr\": 0.04962791836828159}, {\"var1\": \"Daymond John Investment Amount\", \"var2\": \"LoriGreiner Present\", \"corr\": 0.12020339738518125}, {\"var1\": \"Daymond John Investment Amount\", \"var2\": \"RobertHerjavec Present\", \"corr\": 0.024316179879385346}, {\"var1\": \"Daymond John Investment Amount\", \"var2\": \"DaymondJohn Present\", \"corr\": 0.0436966269763081}, {\"var1\": \"Daymond John Investment Amount\", \"var2\": \"KevinOLeary Present\", \"corr\": -0.0038701722525269016}, {\"var1\": \"Daymond John Investment Amount\", \"var2\": \"KevinHarrington Present\", \"corr\": 0.03241680309448481}, {\"var1\": \"Kevin O Leary Investment Amount\", \"var2\": \"Season Number\", \"corr\": 0.10191728632166641}, {\"var1\": \"Kevin O Leary Investment Amount\", \"var2\": \"Episode Number\", \"corr\": 0.007871870002876024}, {\"var1\": \"Kevin O Leary Investment Amount\", \"var2\": \"Pitch Number\", \"corr\": 0.09576846724692613}, {\"var1\": \"Kevin O Leary Investment Amount\", \"var2\": \"Multiple Entrepreneurs\", \"corr\": -0.07700171263765729}, {\"var1\": \"Kevin O Leary Investment Amount\", \"var2\": \"Original Offered Equity\", \"corr\": -0.2005197574980094}, {\"var1\": \"Kevin O Leary Investment Amount\", \"var2\": \"Total Deal Equity\", \"corr\": -0.27389803527922074}, {\"var1\": \"Kevin O Leary Investment Amount\", \"var2\": \"Number of sharks in deal\", \"corr\": -0.22616106655675844}, {\"var1\": \"Kevin O Leary Investment Amount\", \"var2\": \"Investment Amount Per Shark\", \"corr\": 1.0}, {\"var1\": \"Kevin O Leary Investment Amount\", \"var2\": \"Barbara Corcoran Investment Amount\", \"corr\": 1.0}, {\"var1\": \"Kevin O Leary Investment Amount\", \"var2\": \"Mark Cuban Investment Amount\", \"corr\": 1.0}, {\"var1\": \"Kevin O Leary Investment Amount\", \"var2\": \"Lori Greiner Investment Amount\", \"corr\": 1.0}, {\"var1\": \"Kevin O Leary Investment Amount\", \"var2\": \"Robert Herjavec Investment Amount\", \"corr\": 1.0}, {\"var1\": \"Kevin O Leary Investment Amount\", \"var2\": \"Daymond John Investment Amount\", \"corr\": 1.0}, {\"var1\": \"Kevin O Leary Investment Amount\", \"var2\": \"Kevin O Leary Investment Amount\", \"corr\": 1.0}, {\"var1\": \"Kevin O Leary Investment Amount\", \"var2\": \"Guest Investment Amount\", \"corr\": 1.0}, {\"var1\": \"Kevin O Leary Investment Amount\", \"var2\": \"BarbaraCorcoran Present\", \"corr\": -0.054334560478072474}, {\"var1\": \"Kevin O Leary Investment Amount\", \"var2\": \"MarkCuban Present\", \"corr\": 0.10087719378731665}, {\"var1\": \"Kevin O Leary Investment Amount\", \"var2\": \"LoriGreiner Present\", \"corr\": 0.06616233345599457}, {\"var1\": \"Kevin O Leary Investment Amount\", \"var2\": \"RobertHerjavec Present\", \"corr\": -0.019278031696782837}, {\"var1\": \"Kevin O Leary Investment Amount\", \"var2\": \"DaymondJohn Present\", \"corr\": 0.03875569404691191}, {\"var1\": \"Guest Investment Amount\", \"var2\": \"Season Number\", \"corr\": 0.2838583116615701}, {\"var1\": \"Guest Investment Amount\", \"var2\": \"Episode Number\", \"corr\": 0.07276162674310349}, {\"var1\": \"Guest Investment Amount\", \"var2\": \"Pitch Number\", \"corr\": 0.29818231236464177}, {\"var1\": \"Guest Investment Amount\", \"var2\": \"Multiple Entrepreneurs\", \"corr\": -0.07372097807744858}, {\"var1\": \"Guest Investment Amount\", \"var2\": \"Original Offered Equity\", \"corr\": -0.2692499351767872}, {\"var1\": \"Guest Investment Amount\", \"var2\": \"Got Deal\", \"corr\": 0.11614113689130688}, {\"var1\": \"Guest Investment Amount\", \"var2\": \"Total Deal Equity\", \"corr\": -0.18701140485543702}, {\"var1\": \"Guest Investment Amount\", \"var2\": \"Number of sharks in deal\", \"corr\": -0.3578146522840623}, {\"var1\": \"Guest Investment Amount\", \"var2\": \"Investment Amount Per Shark\", \"corr\": 1.0}, {\"var1\": \"Guest Investment Amount\", \"var2\": \"Barbara Corcoran Investment Amount\", \"corr\": 1.0}, {\"var1\": \"Guest Investment Amount\", \"var2\": \"Mark Cuban Investment Amount\", \"corr\": 1.0}, {\"var1\": \"Guest Investment Amount\", \"var2\": \"Lori Greiner Investment Amount\", \"corr\": 1.0}, {\"var1\": \"Guest Investment Amount\", \"var2\": \"Daymond John Investment Amount\", \"corr\": 1.0}, {\"var1\": \"Guest Investment Amount\", \"var2\": \"Kevin O Leary Investment Amount\", \"corr\": 1.0}, {\"var1\": \"Guest Investment Amount\", \"var2\": \"Guest Investment Amount\", \"corr\": 1.0}, {\"var1\": \"Guest Investment Amount\", \"var2\": \"BarbaraCorcoran Present\", \"corr\": 0.1828099431238581}, {\"var1\": \"Guest Investment Amount\", \"var2\": \"MarkCuban Present\", \"corr\": 0.13558862847984002}, {\"var1\": \"Guest Investment Amount\", \"var2\": \"LoriGreiner Present\", \"corr\": 0.10580656129394278}, {\"var1\": \"Guest Investment Amount\", \"var2\": \"RobertHerjavec Present\", \"corr\": 0.029769731868929707}, {\"var1\": \"Guest Investment Amount\", \"var2\": \"DaymondJohn Present\", \"corr\": -0.10362506842724546}, {\"var1\": \"Guest Investment Amount\", \"var2\": \"KevinOLeary Present\", \"corr\": -0.3296800895828465}, {\"var1\": \"Guest Investment Amount\", \"var2\": \"KevinHarrington Present\", \"corr\": -0.27870408330958624}, {\"var1\": \"BarbaraCorcoran Present\", \"var2\": \"Season Number\", \"corr\": -0.28251159486286137}, {\"var1\": \"BarbaraCorcoran Present\", \"var2\": \"Episode Number\", \"corr\": -0.07802948851999986}, {\"var1\": \"BarbaraCorcoran Present\", \"var2\": \"Pitch Number\", \"corr\": -0.2586040717220816}, {\"var1\": \"BarbaraCorcoran Present\", \"var2\": \"Multiple Entrepreneurs\", \"corr\": 0.01731184760440588}, {\"var1\": \"BarbaraCorcoran Present\", \"var2\": \"Original Offered Equity\", \"corr\": 0.11132964451159055}, {\"var1\": \"BarbaraCorcoran Present\", \"var2\": \"Got Deal\", \"corr\": -0.04082422461783814}, {\"var1\": \"BarbaraCorcoran Present\", \"var2\": \"Total Deal Equity\", \"corr\": 0.12153208312419447}, {\"var1\": \"BarbaraCorcoran Present\", \"var2\": \"Number of sharks in deal\", \"corr\": 0.009424782141612074}, {\"var1\": \"BarbaraCorcoran Present\", \"var2\": \"Investment Amount Per Shark\", \"corr\": -0.034484828951861814}, {\"var1\": \"BarbaraCorcoran Present\", \"var2\": \"Barbara Corcoran Investment Amount\", \"corr\": -0.45340854643243605}, {\"var1\": \"BarbaraCorcoran Present\", \"var2\": \"Mark Cuban Investment Amount\", \"corr\": 0.09481163832270086}, {\"var1\": \"BarbaraCorcoran Present\", \"var2\": \"Lori Greiner Investment Amount\", \"corr\": 0.11238194430798784}, {\"var1\": \"BarbaraCorcoran Present\", \"var2\": \"Robert Herjavec Investment Amount\", \"corr\": -0.13292807843660015}, {\"var1\": \"BarbaraCorcoran Present\", \"var2\": \"Daymond John Investment Amount\", \"corr\": -0.11304065811439709}, {\"var1\": \"BarbaraCorcoran Present\", \"var2\": \"Kevin O Leary Investment Amount\", \"corr\": -0.054334560478072474}, {\"var1\": \"BarbaraCorcoran Present\", \"var2\": \"Guest Investment Amount\", \"corr\": 0.1828099431238581}, {\"var1\": \"BarbaraCorcoran Present\", \"var2\": \"BarbaraCorcoran Present\", \"corr\": 1.0}, {\"var1\": \"BarbaraCorcoran Present\", \"var2\": \"MarkCuban Present\", \"corr\": -0.29085576693979054}, {\"var1\": \"BarbaraCorcoran Present\", \"var2\": \"LoriGreiner Present\", \"corr\": -0.5089039942628851}, {\"var1\": \"BarbaraCorcoran Present\", \"var2\": \"RobertHerjavec Present\", \"corr\": 0.020903701209448095}, {\"var1\": \"BarbaraCorcoran Present\", \"var2\": \"DaymondJohn Present\", \"corr\": -0.42242103421946753}, {\"var1\": \"BarbaraCorcoran Present\", \"var2\": \"KevinOLeary Present\", \"corr\": -0.016078933211936836}, {\"var1\": \"BarbaraCorcoran Present\", \"var2\": \"KevinHarrington Present\", \"corr\": -0.04969341096239426}, {\"var1\": \"MarkCuban Present\", \"var2\": \"Season Number\", \"corr\": 0.5986455661113731}, {\"var1\": \"MarkCuban Present\", \"var2\": \"Episode Number\", \"corr\": 0.24529149169416797}, {\"var1\": \"MarkCuban Present\", \"var2\": \"Pitch Number\", \"corr\": 0.512701349715068}, {\"var1\": \"MarkCuban Present\", \"var2\": \"Multiple Entrepreneurs\", \"corr\": 0.05213523170405807}, {\"var1\": \"MarkCuban Present\", \"var2\": \"Original Offered Equity\", \"corr\": -0.22627940880455888}, {\"var1\": \"MarkCuban Present\", \"var2\": \"Got Deal\", \"corr\": 0.06847814271764842}, {\"var1\": \"MarkCuban Present\", \"var2\": \"Total Deal Equity\", \"corr\": -0.34140127559830524}, {\"var1\": \"MarkCuban Present\", \"var2\": \"Number of sharks in deal\", \"corr\": -0.0815584889368582}, {\"var1\": \"MarkCuban Present\", \"var2\": \"Investment Amount Per Shark\", \"corr\": 0.09393330272252279}, {\"var1\": \"MarkCuban Present\", \"var2\": \"Barbara Corcoran Investment Amount\", \"corr\": 0.19259603912726853}, {\"var1\": \"MarkCuban Present\", \"var2\": \"Mark Cuban Investment Amount\", \"corr\": 0.055023120970403475}, {\"var1\": \"MarkCuban Present\", \"var2\": \"Robert Herjavec Investment Amount\", \"corr\": 0.1133387860365777}, {\"var1\": \"MarkCuban Present\", \"var2\": \"Daymond John Investment Amount\", \"corr\": 0.04962791836828159}, {\"var1\": \"MarkCuban Present\", \"var2\": \"Kevin O Leary Investment Amount\", \"corr\": 0.10087719378731665}, {\"var1\": \"MarkCuban Present\", \"var2\": \"Guest Investment Amount\", \"corr\": 0.13558862847984002}, {\"var1\": \"MarkCuban Present\", \"var2\": \"BarbaraCorcoran Present\", \"corr\": -0.29085576693979054}, {\"var1\": \"MarkCuban Present\", \"var2\": \"MarkCuban Present\", \"corr\": 1.0}, {\"var1\": \"MarkCuban Present\", \"var2\": \"LoriGreiner Present\", \"corr\": 0.5715336688623864}, {\"var1\": \"MarkCuban Present\", \"var2\": \"RobertHerjavec Present\", \"corr\": -0.12489144746643087}, {\"var1\": \"MarkCuban Present\", \"var2\": \"DaymondJohn Present\", \"corr\": -0.23683594685504678}, {\"var1\": \"MarkCuban Present\", \"var2\": \"KevinOLeary Present\", \"corr\": -0.07142520688695629}, {\"var1\": \"MarkCuban Present\", \"var2\": \"KevinHarrington Present\", \"corr\": 0.05464062067567432}, {\"var1\": \"LoriGreiner Present\", \"var2\": \"Season Number\", \"corr\": 0.7041240556949239}, {\"var1\": \"LoriGreiner Present\", \"var2\": \"Episode Number\", \"corr\": 0.19835836360478895}, {\"var1\": \"LoriGreiner Present\", \"var2\": \"Pitch Number\", \"corr\": 0.67168952005887}, {\"var1\": \"LoriGreiner Present\", \"var2\": \"Multiple Entrepreneurs\", \"corr\": 0.019604196455466665}, {\"var1\": \"LoriGreiner Present\", \"var2\": \"Original Offered Equity\", \"corr\": -0.2606538886515514}, {\"var1\": \"LoriGreiner Present\", \"var2\": \"Got Deal\", \"corr\": 0.12406374266017232}, {\"var1\": \"LoriGreiner Present\", \"var2\": \"Total Deal Equity\", \"corr\": -0.3485215739807382}, {\"var1\": \"LoriGreiner Present\", \"var2\": \"Number of sharks in deal\", \"corr\": -0.1130272706982916}, {\"var1\": \"LoriGreiner Present\", \"var2\": \"Investment Amount Per Shark\", \"corr\": 0.09856931730840064}, {\"var1\": \"LoriGreiner Present\", \"var2\": \"Barbara Corcoran Investment Amount\", \"corr\": 0.23886269953224878}, {\"var1\": \"LoriGreiner Present\", \"var2\": \"Mark Cuban Investment Amount\", \"corr\": 0.04038546565608179}, {\"var1\": \"LoriGreiner Present\", \"var2\": \"Robert Herjavec Investment Amount\", \"corr\": 0.15516005752516046}, {\"var1\": \"LoriGreiner Present\", \"var2\": \"Daymond John Investment Amount\", \"corr\": 0.12020339738518125}, {\"var1\": \"LoriGreiner Present\", \"var2\": \"Kevin O Leary Investment Amount\", \"corr\": 0.06616233345599457}, {\"var1\": \"LoriGreiner Present\", \"var2\": \"Guest Investment Amount\", \"corr\": 0.10580656129394278}, {\"var1\": \"LoriGreiner Present\", \"var2\": \"BarbaraCorcoran Present\", \"corr\": -0.5089039942628851}, {\"var1\": \"LoriGreiner Present\", \"var2\": \"MarkCuban Present\", \"corr\": 0.5715336688623864}, {\"var1\": \"LoriGreiner Present\", \"var2\": \"LoriGreiner Present\", \"corr\": 1.0}, {\"var1\": \"LoriGreiner Present\", \"var2\": \"RobertHerjavec Present\", \"corr\": -0.1561552830619625}, {\"var1\": \"LoriGreiner Present\", \"var2\": \"DaymondJohn Present\", \"corr\": -0.4143866927847994}, {\"var1\": \"LoriGreiner Present\", \"var2\": \"KevinOLeary Present\", \"corr\": -0.12497112729880802}, {\"var1\": \"LoriGreiner Present\", \"var2\": \"KevinHarrington Present\", \"corr\": -0.04595034060146555}, {\"var1\": \"RobertHerjavec Present\", \"var2\": \"Season Number\", \"corr\": -0.3786386388216618}, {\"var1\": \"RobertHerjavec Present\", \"var2\": \"Episode Number\", \"corr\": 0.01722958687338874}, {\"var1\": \"RobertHerjavec Present\", \"var2\": \"Pitch Number\", \"corr\": -0.3794503184353141}, {\"var1\": \"RobertHerjavec Present\", \"var2\": \"Multiple Entrepreneurs\", \"corr\": 0.05374162957315706}, {\"var1\": \"RobertHerjavec Present\", \"var2\": \"Original Offered Equity\", \"corr\": 0.1663261442659142}, {\"var1\": \"RobertHerjavec Present\", \"var2\": \"Got Deal\", \"corr\": -0.05816622634520913}, {\"var1\": \"RobertHerjavec Present\", \"var2\": \"Total Deal Equity\", \"corr\": 0.19393697938508594}, {\"var1\": \"RobertHerjavec Present\", \"var2\": \"Number of sharks in deal\", \"corr\": -0.019573507361667977}, {\"var1\": \"RobertHerjavec Present\", \"var2\": \"Investment Amount Per Shark\", \"corr\": -0.024161284892404163}, {\"var1\": \"RobertHerjavec Present\", \"var2\": \"Barbara Corcoran Investment Amount\", \"corr\": -0.1564386466636539}, {\"var1\": \"RobertHerjavec Present\", \"var2\": \"Mark Cuban Investment Amount\", \"corr\": -0.06942027063551855}, {\"var1\": \"RobertHerjavec Present\", \"var2\": \"Lori Greiner Investment Amount\", \"corr\": -0.1268773840467609}, {\"var1\": \"RobertHerjavec Present\", \"var2\": \"Robert Herjavec Investment Amount\", \"corr\": 0.03749457553499863}, {\"var1\": \"RobertHerjavec Present\", \"var2\": \"Daymond John Investment Amount\", \"corr\": 0.024316179879385346}, {\"var1\": \"RobertHerjavec Present\", \"var2\": \"Kevin O Leary Investment Amount\", \"corr\": -0.019278031696782837}, {\"var1\": \"RobertHerjavec Present\", \"var2\": \"Guest Investment Amount\", \"corr\": 0.029769731868929707}, {\"var1\": \"RobertHerjavec Present\", \"var2\": \"BarbaraCorcoran Present\", \"corr\": 0.020903701209448095}, {\"var1\": \"RobertHerjavec Present\", \"var2\": \"MarkCuban Present\", \"corr\": -0.12489144746643087}, {\"var1\": \"RobertHerjavec Present\", \"var2\": \"LoriGreiner Present\", \"corr\": -0.1561552830619625}, {\"var1\": \"RobertHerjavec Present\", \"var2\": \"RobertHerjavec Present\", \"corr\": 1.0}, {\"var1\": \"RobertHerjavec Present\", \"var2\": \"DaymondJohn Present\", \"corr\": 0.04247855316849679}, {\"var1\": \"RobertHerjavec Present\", \"var2\": \"KevinOLeary Present\", \"corr\": -0.0818040995599637}, {\"var1\": \"RobertHerjavec Present\", \"var2\": \"KevinHarrington Present\", \"corr\": -0.09003410335857037}, {\"var1\": \"DaymondJohn Present\", \"var2\": \"Season Number\", \"corr\": -0.3880269572919266}, {\"var1\": \"DaymondJohn Present\", \"var2\": \"Episode Number\", \"corr\": -0.08820662402403914}, {\"var1\": \"DaymondJohn Present\", \"var2\": \"Pitch Number\", \"corr\": -0.3821307912381358}, {\"var1\": \"DaymondJohn Present\", \"var2\": \"Multiple Entrepreneurs\", \"corr\": -0.04418136174250357}, {\"var1\": \"DaymondJohn Present\", \"var2\": \"Original Offered Equity\", \"corr\": 0.14605494398941687}, {\"var1\": \"DaymondJohn Present\", \"var2\": \"Got Deal\", \"corr\": -0.07365967150747307}, {\"var1\": \"DaymondJohn Present\", \"var2\": \"Total Deal Equity\", \"corr\": 0.1870542351011159}, {\"var1\": \"DaymondJohn Present\", \"var2\": \"Number of sharks in deal\", \"corr\": 0.04014206030076728}, {\"var1\": \"DaymondJohn Present\", \"var2\": \"Investment Amount Per Shark\", \"corr\": -0.006555831548006147}, {\"var1\": \"DaymondJohn Present\", \"var2\": \"Barbara Corcoran Investment Amount\", \"corr\": -0.054390233230041087}, {\"var1\": \"DaymondJohn Present\", \"var2\": \"Mark Cuban Investment Amount\", \"corr\": -0.06217354284634703}, {\"var1\": \"DaymondJohn Present\", \"var2\": \"Lori Greiner Investment Amount\", \"corr\": -0.0010719277312645024}, {\"var1\": \"DaymondJohn Present\", \"var2\": \"Robert Herjavec Investment Amount\", \"corr\": 0.00971841811335066}, {\"var1\": \"DaymondJohn Present\", \"var2\": \"Daymond John Investment Amount\", \"corr\": 0.0436966269763081}, {\"var1\": \"DaymondJohn Present\", \"var2\": \"Kevin O Leary Investment Amount\", \"corr\": 0.03875569404691191}, {\"var1\": \"DaymondJohn Present\", \"var2\": \"Guest Investment Amount\", \"corr\": -0.10362506842724546}, {\"var1\": \"DaymondJohn Present\", \"var2\": \"BarbaraCorcoran Present\", \"corr\": -0.42242103421946753}, {\"var1\": \"DaymondJohn Present\", \"var2\": \"MarkCuban Present\", \"corr\": -0.23683594685504678}, {\"var1\": \"DaymondJohn Present\", \"var2\": \"LoriGreiner Present\", \"corr\": -0.4143866927847994}, {\"var1\": \"DaymondJohn Present\", \"var2\": \"RobertHerjavec Present\", \"corr\": 0.04247855316849679}, {\"var1\": \"DaymondJohn Present\", \"var2\": \"DaymondJohn Present\", \"corr\": 1.0}, {\"var1\": \"DaymondJohn Present\", \"var2\": \"KevinOLeary Present\", \"corr\": 0.11889739160439841}, {\"var1\": \"DaymondJohn Present\", \"var2\": \"KevinHarrington Present\", \"corr\": 0.08059354930746322}, {\"var1\": \"KevinOLeary Present\", \"var2\": \"Season Number\", \"corr\": -0.257443225725356}, {\"var1\": \"KevinOLeary Present\", \"var2\": \"Episode Number\", \"corr\": -0.0318454707835312}, {\"var1\": \"KevinOLeary Present\", \"var2\": \"Pitch Number\", \"corr\": -0.26948573044609186}, {\"var1\": \"KevinOLeary Present\", \"var2\": \"Original Offered Equity\", \"corr\": 0.10518635907838353}, {\"var1\": \"KevinOLeary Present\", \"var2\": \"Got Deal\", \"corr\": -0.04026401460982877}, {\"var1\": \"KevinOLeary Present\", \"var2\": \"Total Deal Equity\", \"corr\": 0.13540585648624423}, {\"var1\": \"KevinOLeary Present\", \"var2\": \"Number of sharks in deal\", \"corr\": -0.012154592290534262}, {\"var1\": \"KevinOLeary Present\", \"var2\": \"Investment Amount Per Shark\", \"corr\": -0.052534208117345126}, {\"var1\": \"KevinOLeary Present\", \"var2\": \"Barbara Corcoran Investment Amount\", \"corr\": -0.08393847698514592}, {\"var1\": \"KevinOLeary Present\", \"var2\": \"Mark Cuban Investment Amount\", \"corr\": 0.02799700041855811}, {\"var1\": \"KevinOLeary Present\", \"var2\": \"Lori Greiner Investment Amount\", \"corr\": -0.16662415296715538}, {\"var1\": \"KevinOLeary Present\", \"var2\": \"Robert Herjavec Investment Amount\", \"corr\": 0.0494933825550325}, {\"var1\": \"KevinOLeary Present\", \"var2\": \"Daymond John Investment Amount\", \"corr\": -0.0038701722525269016}, {\"var1\": \"KevinOLeary Present\", \"var2\": \"Guest Investment Amount\", \"corr\": -0.3296800895828465}, {\"var1\": \"KevinOLeary Present\", \"var2\": \"BarbaraCorcoran Present\", \"corr\": -0.016078933211936836}, {\"var1\": \"KevinOLeary Present\", \"var2\": \"MarkCuban Present\", \"corr\": -0.07142520688695629}, {\"var1\": \"KevinOLeary Present\", \"var2\": \"LoriGreiner Present\", \"corr\": -0.12497112729880802}, {\"var1\": \"KevinOLeary Present\", \"var2\": \"RobertHerjavec Present\", \"corr\": -0.0818040995599637}, {\"var1\": \"KevinOLeary Present\", \"var2\": \"DaymondJohn Present\", \"corr\": 0.11889739160439841}, {\"var1\": \"KevinOLeary Present\", \"var2\": \"KevinOLeary Present\", \"corr\": 1.0}, {\"var1\": \"KevinOLeary Present\", \"var2\": \"KevinHarrington Present\", \"corr\": 0.9085901509361461}, {\"var1\": \"KevinHarrington Present\", \"var2\": \"Season Number\", \"corr\": -0.1752634833599636}, {\"var1\": \"KevinHarrington Present\", \"var2\": \"Episode Number\", \"corr\": 0.007167480383799627}, {\"var1\": \"KevinHarrington Present\", \"var2\": \"Pitch Number\", \"corr\": -0.1913434341627084}, {\"var1\": \"KevinHarrington Present\", \"var2\": \"Multiple Entrepreneurs\", \"corr\": 0.02058830619391473}, {\"var1\": \"KevinHarrington Present\", \"var2\": \"Original Offered Equity\", \"corr\": 0.07559646714259642}, {\"var1\": \"KevinHarrington Present\", \"var2\": \"Got Deal\", \"corr\": -0.032332418498681854}, {\"var1\": \"KevinHarrington Present\", \"var2\": \"Total Deal Equity\", \"corr\": 0.10998840572719655}, {\"var1\": \"KevinHarrington Present\", \"var2\": \"Number of sharks in deal\", \"corr\": -0.007187484249360756}, {\"var1\": \"KevinHarrington Present\", \"var2\": \"Investment Amount Per Shark\", \"corr\": -0.030819865601138276}, {\"var1\": \"KevinHarrington Present\", \"var2\": \"Barbara Corcoran Investment Amount\", \"corr\": -0.0033371953589126924}, {\"var1\": \"KevinHarrington Present\", \"var2\": \"Mark Cuban Investment Amount\", \"corr\": 0.02799700041855811}, {\"var1\": \"KevinHarrington Present\", \"var2\": \"Lori Greiner Investment Amount\", \"corr\": -0.16662415296715538}, {\"var1\": \"KevinHarrington Present\", \"var2\": \"Robert Herjavec Investment Amount\", \"corr\": 0.06471841160836082}, {\"var1\": \"KevinHarrington Present\", \"var2\": \"Daymond John Investment Amount\", \"corr\": 0.03241680309448481}, {\"var1\": \"KevinHarrington Present\", \"var2\": \"Guest Investment Amount\", \"corr\": -0.27870408330958624}, {\"var1\": \"KevinHarrington Present\", \"var2\": \"BarbaraCorcoran Present\", \"corr\": -0.04969341096239426}, {\"var1\": \"KevinHarrington Present\", \"var2\": \"MarkCuban Present\", \"corr\": 0.05464062067567432}, {\"var1\": \"KevinHarrington Present\", \"var2\": \"LoriGreiner Present\", \"corr\": -0.04595034060146555}, {\"var1\": \"KevinHarrington Present\", \"var2\": \"RobertHerjavec Present\", \"corr\": -0.09003410335857037}, {\"var1\": \"KevinHarrington Present\", \"var2\": \"DaymondJohn Present\", \"corr\": 0.08059354930746322}, {\"var1\": \"KevinHarrington Present\", \"var2\": \"KevinOLeary Present\", \"corr\": 0.9085901509361461}, {\"var1\": \"KevinHarrington Present\", \"var2\": \"KevinHarrington Present\", \"corr\": 1.0}]}}, {\"mode\": \"vega-lite\"});\n",
       "</script>"
      ],
      "text/plain": [
       "alt.Chart(...)"
      ]
     },
     "execution_count": 37,
     "metadata": {},
     "output_type": "execute_result"
    }
   ],
   "source": [
    "# Calculate correlation matrix\n",
    "corr = sharktank.corr()\n",
    "\n",
    "# Reshape correlation matrix into tidy format\n",
    "corr = corr.stack().reset_index()\n",
    "corr.columns = ['var1', 'var2', 'corr']\n",
    "\n",
    "# Create correlation matrix plot using Altair\n",
    "chart = alt.Chart(corr).mark_rect().encode(\n",
    "    x='var1:N',\n",
    "    y='var2:N',\n",
    "    color='corr:Q'\n",
    ")\n",
    "\n",
    "# Add text to the correlation matrix plot\n",
    "text = chart.mark_text(baseline='middle').encode(\n",
    "    text=alt.Text('corr:Q', format='.2f'),\n",
    "    color=alt.condition(\n",
    "        alt.datum.corr > 0.5,\n",
    "        alt.value('white'),\n",
    "        alt.value('black')\n",
    "    )\n",
    ")\n",
    "\n",
    "(chart + text).configure_view(stroke=None)\n",
    "\n",
    "chart"
   ]
  },
  {
   "cell_type": "code",
   "execution_count": 58,
   "metadata": {},
   "outputs": [],
   "source": [
    "linear_sharktank = sharktank.drop(['Got Deal', 'Startup Name',\n",
    " 'Industry',\n",
    " 'Business Description',\n",
    " 'Pitchers Gender',\n",
    " 'Pitchers State',\n",
    " 'Pitchers City',\n",
    " 'Entrepreneur Names',\n",
    " 'Company Website','Notes','Guest Name'], axis=1)\n",
    "\n",
    "linear_sharktank = linear_sharktank.replace(',','', regex=True)\n",
    "linear_sharktank = linear_sharktank.astype(float)"
   ]
  },
  {
   "cell_type": "code",
   "execution_count": 63,
   "metadata": {},
   "outputs": [],
   "source": [
    "from sklearn.model_selection import train_test_split\n",
    "from sklearn.impute import SimpleImputer\n",
    "X = linear_sharktank\n",
    "y = sharktank['Got Deal']\n",
    "imputer = SimpleImputer()\n",
    "X = imputer.fit_transform(X)\n",
    "\n",
    "X_train, X_test,  y_train, y_test = train_test_split(\n",
    "    X, y, test_size=0.33, random_state=42\n",
    ")"
   ]
  },
  {
   "cell_type": "code",
   "execution_count": 64,
   "metadata": {},
   "outputs": [],
   "source": [
    "from sklearn.linear_model import LinearRegression\n",
    "lr = LinearRegression()"
   ]
  },
  {
   "cell_type": "code",
   "execution_count": 67,
   "metadata": {},
   "outputs": [
    {
     "name": "stdout",
     "output_type": "stream",
     "text": [
      "Mean absolute error: 0.4916767691422439\n",
      "MSE: 0.26998585150854787\n",
      "sqrt MSE: 0.5196016277000562\n"
     ]
    }
   ],
   "source": [
    "from sklearn.metrics import mean_absolute_error, mean_squared_error\n",
    "lr.fit(X_train, y_train)\n",
    "\n",
    "pred = lr.predict(X_test)\n",
    "\n",
    "\n",
    "print('Mean absolute error:', mean_absolute_error(y_test, pred))\n",
    "print('MSE:', mean_squared_error(y_test, pred))\n",
    "print('sqrt MSE:', np.sqrt(mean_squared_error(y_test, pred)))\n"
   ]
  },
  {
   "cell_type": "code",
   "execution_count": null,
   "metadata": {},
   "outputs": [],
   "source": []
  }
 ],
 "metadata": {
  "kernelspec": {
   "display_name": ".venv",
   "language": "python",
   "name": "python3"
  },
  "language_info": {
   "codemirror_mode": {
    "name": "ipython",
    "version": 3
   },
   "file_extension": ".py",
   "mimetype": "text/x-python",
   "name": "python",
   "nbconvert_exporter": "python",
   "pygments_lexer": "ipython3",
   "version": "3.11.2"
  },
  "orig_nbformat": 4,
  "vscode": {
   "interpreter": {
    "hash": "48dbd5be141d451297a75fdcdb92f673a84f1c5c7f27edb4892bcc85710fc5a7"
   }
  }
 },
 "nbformat": 4,
 "nbformat_minor": 2
}
