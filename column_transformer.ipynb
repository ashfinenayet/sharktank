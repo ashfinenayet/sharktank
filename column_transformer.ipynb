{
 "cells": [
  {
   "cell_type": "code",
   "execution_count": 1,
   "metadata": {},
   "outputs": [],
   "source": [
    "import numpy as np\n",
    "import sklearn \n",
    "import pandas as pd\n",
    "import xgboost as xg\n",
    "import altair as alt\n",
    "import nbformat\n",
    "from sklearn.compose import ColumnTransformer\n",
    "from sklearn.datasets import fetch_openml\n",
    "from sklearn.pipeline import Pipeline\n",
    "from sklearn.impute import SimpleImputer\n",
    "from sklearn.preprocessing import StandardScaler, OneHotEncoder\n",
    "from sklearn.linear_model import LogisticRegression\n",
    "from sklearn.model_selection import train_test_split, RandomizedSearchCV\n",
    "from sklearn.feature_selection import SelectPercentile, chi2"
   ]
  },
  {
   "cell_type": "code",
   "execution_count": 2,
   "metadata": {},
   "outputs": [],
   "source": [
    "sharktank = pd.read_csv('Shark Tank US dataset.csv',  encoding= 'unicode_escape')"
   ]
  },
  {
   "cell_type": "code",
   "execution_count": 3,
   "metadata": {},
   "outputs": [
    {
     "name": "stdout",
     "output_type": "stream",
     "text": [
      "Column\t\tData Type\n",
      "Season Number\t\tint64\n",
      "Episode Number\t\tint64\n",
      "Pitch Number\t\tint64\n",
      "Startup Name\t\tobject\n",
      "Industry\t\tobject\n",
      "Business Description\t\tobject\n",
      "Pitchers Gender\t\tobject\n",
      "Pitchers State\t\tobject\n",
      "Pitchers City\t\tobject\n",
      "Entrepreneur Names\t\tobject\n",
      "Company Website\t\tobject\n",
      "Multiple Entrepreneurs\t\tfloat64\n",
      "Original Ask Amount\t\tobject\n",
      "Original Offered Equity\t\tfloat64\n",
      "Valuation Requested\t\tobject\n",
      "Got Deal\t\tint64\n",
      "Total Deal Amount\t\tobject\n",
      "Total Deal Equity\t\tfloat64\n",
      "Deal Valuation\t\tobject\n",
      "Number of sharks in deal\t\tfloat64\n",
      "Investment Amount Per Shark\t\tfloat64\n",
      "Royalty Deal\t\tfloat64\n",
      "Loan\t\tfloat64\n",
      "Barbara Corcoran Investment Amount\t\tfloat64\n",
      "Mark Cuban Investment Amount\t\tfloat64\n",
      "Lori Greiner Investment Amount\t\tfloat64\n",
      "Robert Herjavec Investment Amount\t\tfloat64\n",
      "Daymond John Investment Amount\t\tfloat64\n",
      "Kevin O Leary Investment Amount\t\tfloat64\n",
      "Guest Investment Amount\t\tfloat64\n",
      "BarbaraCorcoran Present\t\tfloat64\n",
      "MarkCuban Present\t\tfloat64\n",
      "LoriGreiner Present\t\tfloat64\n",
      "RobertHerjavec Present\t\tfloat64\n",
      "DaymondJohn Present\t\tfloat64\n",
      "KevinOLeary Present\t\tfloat64\n",
      "KevinHarrington Present\t\tfloat64\n",
      "Guest Name\t\tobject\n",
      "Notes\t\tobject\n"
     ]
    }
   ],
   "source": [
    "def print_dtypes(df):\n",
    "    \"\"\"\n",
    "    Prints the data type of each column in a pandas DataFrame.\n",
    "\n",
    "    Args:\n",
    "        df (pandas.DataFrame): The pandas DataFrame to print.\n",
    "\n",
    "    Returns:\n",
    "        None\n",
    "    \"\"\"\n",
    "    print(\"Column\\t\\tData Type\")\n",
    "    for col in df.columns:\n",
    "        print(f\"{col}\\t\\t{df[col].dtype}\")\n",
    "\n",
    "print_dtypes(sharktank)"
   ]
  },
  {
   "cell_type": "code",
   "execution_count": 4,
   "metadata": {},
   "outputs": [],
   "source": [
    "sharktank = sharktank.replace(',','', regex=True)\n"
   ]
  },
  {
   "cell_type": "code",
   "execution_count": 5,
   "metadata": {},
   "outputs": [],
   "source": [
    "\n",
    "import pandas as pd\n",
    "\n",
    "def classify_float(df):\n",
    "    for column in df.columns:\n",
    "        if df[column].dtype == 'int64' or df[column].dtype == 'float64':\n",
    "            df[column] = df[column].astype(float)\n",
    "    return df\n",
    "\n"
   ]
  },
  {
   "cell_type": "code",
   "execution_count": 6,
   "metadata": {},
   "outputs": [],
   "source": [
    "def classify_categorical(df):\n",
    "    for column in df.columns:\n",
    "        if df[column].dtype == 'object':\n",
    "            df[column] = pd.Categorical(df[column])\n",
    "        return df"
   ]
  },
  {
   "cell_type": "code",
   "execution_count": 7,
   "metadata": {},
   "outputs": [],
   "source": [
    "new_df = sharktank.copy()\n",
    "new_df = classify_float(new_df)\n",
    "new_df = classify_categorical(new_df)"
   ]
  },
  {
   "cell_type": "code",
   "execution_count": 8,
   "metadata": {},
   "outputs": [],
   "source": [
    "float_cols = ['Total Deal Amount', 'Valuation Requested', 'Deal Valuation']\n",
    "\n",
    "for col in float_cols:\n",
    "    sharktank[col] = pd.to_numeric(sharktank[col], errors='coerce')\n",
    "\n",
    "sharktank['Total Deal Amount'] = sharktank['Total Deal Amount'].astype(\"float\")\n"
   ]
  },
  {
   "cell_type": "code",
   "execution_count": 9,
   "metadata": {},
   "outputs": [],
   "source": [
    "sharktank['Deal Valuation'] = sharktank['Deal Valuation'].astype(\"float\")\n",
    "sharktank['Original Ask Amount'] = sharktank['Original Ask Amount'].astype(\"float\")"
   ]
  },
  {
   "cell_type": "code",
   "execution_count": null,
   "metadata": {},
   "outputs": [],
   "source": []
  },
  {
   "cell_type": "code",
   "execution_count": 10,
   "metadata": {},
   "outputs": [
    {
     "name": "stdout",
     "output_type": "stream",
     "text": [
      "Column\t\tData Type\n",
      "Season Number\t\tfloat64\n",
      "Episode Number\t\tfloat64\n",
      "Pitch Number\t\tfloat64\n",
      "Startup Name\t\tobject\n",
      "Industry\t\tobject\n",
      "Business Description\t\tobject\n",
      "Pitchers Gender\t\tobject\n",
      "Pitchers State\t\tobject\n",
      "Pitchers City\t\tobject\n",
      "Entrepreneur Names\t\tobject\n",
      "Company Website\t\tobject\n",
      "Multiple Entrepreneurs\t\tfloat64\n",
      "Original Ask Amount\t\tobject\n",
      "Original Offered Equity\t\tfloat64\n",
      "Valuation Requested\t\tobject\n",
      "Got Deal\t\tfloat64\n",
      "Total Deal Amount\t\tobject\n",
      "Total Deal Equity\t\tfloat64\n",
      "Deal Valuation\t\tobject\n",
      "Number of sharks in deal\t\tfloat64\n",
      "Investment Amount Per Shark\t\tfloat64\n",
      "Royalty Deal\t\tfloat64\n",
      "Loan\t\tfloat64\n",
      "Barbara Corcoran Investment Amount\t\tfloat64\n",
      "Mark Cuban Investment Amount\t\tfloat64\n",
      "Lori Greiner Investment Amount\t\tfloat64\n",
      "Robert Herjavec Investment Amount\t\tfloat64\n",
      "Daymond John Investment Amount\t\tfloat64\n",
      "Kevin O Leary Investment Amount\t\tfloat64\n",
      "Guest Investment Amount\t\tfloat64\n",
      "BarbaraCorcoran Present\t\tfloat64\n",
      "MarkCuban Present\t\tfloat64\n",
      "LoriGreiner Present\t\tfloat64\n",
      "RobertHerjavec Present\t\tfloat64\n",
      "DaymondJohn Present\t\tfloat64\n",
      "KevinOLeary Present\t\tfloat64\n",
      "KevinHarrington Present\t\tfloat64\n",
      "Guest Name\t\tobject\n",
      "Notes\t\tobject\n"
     ]
    }
   ],
   "source": [
    "print_dtypes(new_df)"
   ]
  },
  {
   "cell_type": "code",
   "execution_count": 11,
   "metadata": {},
   "outputs": [],
   "source": [
    "to_category_type = ['Industry', 'Pitchers Gender','Pitchers State', 'Pitchers City', 'Season Number', 'BarbaraCorcoran Present', 'MarkCuban Present', 'LoriGreiner Present', 'RobertHerjavec Present', 'DaymondJohn Present', 'KevinOLeary Present', 'KevinHarrington Present']\n",
    "\n",
    "def convert_to_categorical(df, categorical_cols):\n",
    "    \"\"\"\n",
    "    Converts specified columns in a Pandas DataFrame to categorical data type.\n",
    "\n",
    "    Parameters:\n",
    "    df (pandas.DataFrame): The DataFrame to modify.\n",
    "    categorical_cols (list): A list of column names to convert to categorical data type.\n",
    "\n",
    "    Returns:\n",
    "    pandas.DataFrame: The modified DataFrame.\n",
    "    \"\"\"\n",
    "    # Make a copy of the DataFrame to avoid modifying the original\n",
    "    df_copy = df.copy()\n",
    "\n",
    "    # Convert specified columns to categorical data type\n",
    "    for col in categorical_cols:\n",
    "        df_copy[col] = df_copy[col].astype('category')\n",
    "\n",
    "    # Return the modified DataFrame\n",
    "    return df_copy\n",
    "\n",
    "new_df = convert_to_categorical(sharktank, to_category_type)"
   ]
  },
  {
   "cell_type": "code",
   "execution_count": 12,
   "metadata": {},
   "outputs": [],
   "source": [
    "def convert_to_num(df, num_columns):\n",
    "    \"\"\"\n",
    "    Converts specified columns in a Pandas DataFrame to categorical data type.\n",
    "\n",
    "    Parameters:\n",
    "    df (pandas.DataFrame): The DataFrame to modify.\n",
    "    categorical_cols (list): A list of column names to convert to categorical data type.\n",
    "\n",
    "    Returns:\n",
    "    pandas.DataFrame: The modified DataFrame.\n",
    "    \"\"\"\n",
    "    # Make a copy of the DataFrame to avoid modifying the original\n",
    "    df_copy = df.copy()\n",
    "\n",
    "    # Convert specified columns to categorical data type\n",
    "    for col in num_columns:\n",
    "        df_copy[col] = df_copy[col].astype('category')\n",
    "\n",
    "    # Return the modified DataFrame\n",
    "    return df_copy\n",
    "\n",
    "new_df = convert_to_num(sharktank, to_category_type)"
   ]
  },
  {
   "cell_type": "code",
   "execution_count": null,
   "metadata": {},
   "outputs": [],
   "source": []
  },
  {
   "cell_type": "code",
   "execution_count": 13,
   "metadata": {},
   "outputs": [],
   "source": [
    "X = new_df.drop(['Got Deal', 'Guest Name', 'Notes', 'Company Website'], axis=1)\n",
    "y = new_df['Got Deal']"
   ]
  },
  {
   "cell_type": "code",
   "execution_count": 14,
   "metadata": {},
   "outputs": [
    {
     "name": "stdout",
     "output_type": "stream",
     "text": [
      "Numerical columns are: ['Multiple Entrepreneurs', 'Original Ask Amount', 'Original Offered Equity', 'Valuation Requested', 'Total Deal Amount', 'Total Deal Equity', 'Deal Valuation', 'Number of sharks in deal', 'Investment Amount Per Shark', 'Royalty Deal', 'Loan', 'Barbara Corcoran Investment Amount', 'Mark Cuban Investment Amount', 'Lori Greiner Investment Amount', 'Robert Herjavec Investment Amount', 'Daymond John Investment Amount', 'Kevin O Leary Investment Amount', 'Guest Investment Amount']\n"
     ]
    }
   ],
   "source": [
    "dtypes_to_select = ['float64']\n",
    "numerical = list(new_df.select_dtypes(include=dtypes_to_select).columns)\n",
    "print(f\"Numerical columns are: {numerical}\")"
   ]
  },
  {
   "cell_type": "code",
   "execution_count": 15,
   "metadata": {},
   "outputs": [
    {
     "name": "stdout",
     "output_type": "stream",
     "text": [
      "Categorical columns are: ['Season Number', 'Industry', 'Pitchers Gender', 'Pitchers State', 'Pitchers City', 'BarbaraCorcoran Present', 'MarkCuban Present', 'LoriGreiner Present', 'RobertHerjavec Present', 'DaymondJohn Present', 'KevinOLeary Present', 'KevinHarrington Present']\n"
     ]
    }
   ],
   "source": [
    "dtypes_to_select = ['category']\n",
    "categorical = list(new_df.select_dtypes(include=dtypes_to_select).columns)\n",
    "print(f\"Categorical columns are: {categorical}\")"
   ]
  },
  {
   "cell_type": "code",
   "execution_count": 16,
   "metadata": {},
   "outputs": [],
   "source": [
    "numeric_tranformer = Pipeline(\n",
    "    steps = [( \"imputer\", SimpleImputer(strategy=\"median\")), (\"scaler\", StandardScaler())]\n",
    ")\n",
    "\n",
    "categorical_transformer = Pipeline(\n",
    "    steps=[\n",
    "    (\"encoder\", OneHotEncoder(handle_unknown='ignore')),\n",
    "    (\"selector\", SelectPercentile(chi2, percentile=50)),\n",
    "    ]\n",
    ")\n",
    "\n",
    "\n",
    "preprocessor = ColumnTransformer(\n",
    "    transformers=[\n",
    "    (\"num\", numeric_tranformer, numerical),\n",
    "    (\"cat\", categorical_transformer, categorical),\n",
    "    ]\n",
    ")"
   ]
  },
  {
   "cell_type": "code",
   "execution_count": 17,
   "metadata": {},
   "outputs": [],
   "source": [
    "from sklearn.svm import SVC"
   ]
  },
  {
   "cell_type": "code",
   "execution_count": 18,
   "metadata": {},
   "outputs": [
    {
     "name": "stdout",
     "output_type": "stream",
     "text": [
      "model score: 0.889\n"
     ]
    }
   ],
   "source": [
    "clf = Pipeline(\n",
    "    steps=[(\"preprocessor\", preprocessor), (\"classifier\", SVC(probability=True))]\n",
    ")\n",
    "\n",
    "X_train, X_test, y_train, y_test = train_test_split(X, y, test_size=0.2, random_state=0)\n",
    "\n",
    "clf.fit(X_train, y_train)\n",
    "print(\"model score: %.3f\" % clf.score(X_test, y_test))"
   ]
  },
  {
   "cell_type": "code",
   "execution_count": 19,
   "metadata": {},
   "outputs": [
    {
     "data": {
      "text/plain": [
       "array([[4.10347371e-06, 9.99995897e-01],\n",
       "       [4.62533385e-01, 5.37466615e-01],\n",
       "       [7.49166141e-01, 2.50833859e-01],\n",
       "       [8.04992203e-01, 1.95007797e-01],\n",
       "       [6.02447663e-01, 3.97552337e-01],\n",
       "       [1.86114626e-01, 8.13885374e-01],\n",
       "       [5.13643455e-02, 9.48635655e-01],\n",
       "       [4.43522637e-01, 5.56477363e-01],\n",
       "       [1.20866564e-09, 9.99999999e-01],\n",
       "       [9.22044514e-01, 7.79554863e-02],\n",
       "       [5.88479585e-01, 4.11520415e-01],\n",
       "       [9.08433908e-01, 9.15660920e-02],\n",
       "       [9.55050288e-01, 4.49497115e-02],\n",
       "       [4.49303567e-03, 9.95506964e-01],\n",
       "       [9.28156835e-01, 7.18431652e-02],\n",
       "       [2.59215098e-02, 9.74078490e-01],\n",
       "       [9.04643195e-01, 9.53568053e-02],\n",
       "       [1.56158366e-05, 9.99984384e-01],\n",
       "       [3.87300738e-01, 6.12699262e-01],\n",
       "       [9.76907803e-01, 2.30921975e-02],\n",
       "       [9.05572186e-01, 9.44278138e-02],\n",
       "       [9.79999397e-01, 2.00006033e-02],\n",
       "       [9.58190627e-01, 4.18093728e-02],\n",
       "       [9.60107431e-01, 3.98925694e-02],\n",
       "       [2.30601833e-01, 7.69398167e-01],\n",
       "       [6.94530132e-01, 3.05469868e-01],\n",
       "       [8.52147985e-01, 1.47852015e-01],\n",
       "       [6.34030824e-01, 3.65969176e-01],\n",
       "       [8.89243491e-01, 1.10756509e-01],\n",
       "       [5.04492983e-07, 9.99999496e-01],\n",
       "       [4.01710757e-01, 5.98289243e-01],\n",
       "       [4.70024848e-03, 9.95299752e-01],\n",
       "       [3.53739078e-02, 9.64626092e-01],\n",
       "       [9.81371393e-01, 1.86286069e-02],\n",
       "       [3.04834148e-01, 6.95165852e-01],\n",
       "       [9.54715829e-01, 4.52841708e-02],\n",
       "       [3.26607111e-06, 9.99996734e-01],\n",
       "       [1.44720012e-05, 9.99985528e-01],\n",
       "       [9.26933195e-01, 7.30668051e-02],\n",
       "       [8.37686725e-01, 1.62313275e-01],\n",
       "       [9.87573679e-01, 1.24263212e-02],\n",
       "       [9.12771551e-07, 9.99999087e-01],\n",
       "       [4.54123164e-03, 9.95458768e-01],\n",
       "       [5.80428130e-01, 4.19571870e-01],\n",
       "       [3.01551719e-02, 9.69844828e-01],\n",
       "       [1.11520238e-02, 9.88847976e-01],\n",
       "       [8.91901706e-01, 1.08098294e-01],\n",
       "       [6.86435860e-02, 9.31356414e-01],\n",
       "       [9.53995725e-01, 4.60042749e-02],\n",
       "       [9.52550472e-01, 4.74495285e-02],\n",
       "       [6.53164970e-02, 9.34683503e-01],\n",
       "       [8.66777379e-03, 9.91332226e-01],\n",
       "       [9.49311203e-01, 5.06887966e-02],\n",
       "       [3.24868462e-07, 9.99999675e-01],\n",
       "       [9.51957813e-01, 4.80421867e-02],\n",
       "       [8.28048952e-01, 1.71951048e-01],\n",
       "       [9.53300475e-01, 4.66995248e-02],\n",
       "       [3.46484597e-06, 9.99996535e-01],\n",
       "       [5.98620640e-01, 4.01379360e-01],\n",
       "       [3.14651595e-01, 6.85348405e-01],\n",
       "       [9.85939630e-01, 1.40603704e-02],\n",
       "       [3.37471041e-07, 9.99999663e-01],\n",
       "       [2.85328762e-01, 7.14671238e-01],\n",
       "       [9.77647746e-01, 2.23522540e-02],\n",
       "       [4.83745439e-02, 9.51625456e-01],\n",
       "       [2.17137389e-07, 9.99999783e-01],\n",
       "       [2.43399528e-02, 9.75660047e-01],\n",
       "       [6.77975722e-03, 9.93220243e-01],\n",
       "       [1.51244960e-06, 9.99998488e-01],\n",
       "       [9.46172261e-01, 5.38277391e-02],\n",
       "       [4.56684604e-01, 5.43315396e-01],\n",
       "       [9.80669977e-01, 1.93300225e-02],\n",
       "       [2.62931330e-06, 9.99997371e-01],\n",
       "       [9.71159617e-01, 2.88403830e-02],\n",
       "       [4.59577475e-01, 5.40422525e-01],\n",
       "       [1.49755160e-06, 9.99998502e-01],\n",
       "       [9.50402534e-01, 4.95974660e-02],\n",
       "       [2.62671121e-02, 9.73732888e-01],\n",
       "       [1.10713296e-01, 8.89286704e-01],\n",
       "       [3.48249893e-02, 9.65175011e-01],\n",
       "       [9.89739517e-01, 1.02604828e-02],\n",
       "       [9.58871200e-02, 9.04112880e-01],\n",
       "       [1.53552339e-06, 9.99998464e-01],\n",
       "       [8.68528438e-01, 1.31471562e-01],\n",
       "       [9.20766767e-01, 7.92332327e-02],\n",
       "       [9.17153680e-01, 8.28463200e-02],\n",
       "       [4.51584183e-07, 9.99999548e-01],\n",
       "       [9.79673175e-01, 2.03268251e-02],\n",
       "       [2.06574652e-02, 9.79342535e-01],\n",
       "       [1.14385027e-02, 9.88561497e-01],\n",
       "       [6.33469472e-06, 9.99993665e-01],\n",
       "       [7.05212973e-01, 2.94787027e-01],\n",
       "       [9.93562652e-01, 6.43734839e-03],\n",
       "       [9.49591373e-01, 5.04086272e-02],\n",
       "       [6.46021249e-01, 3.53978751e-01],\n",
       "       [9.67141671e-01, 3.28583289e-02],\n",
       "       [4.21793683e-01, 5.78206317e-01],\n",
       "       [1.95663352e-02, 9.80433665e-01],\n",
       "       [5.08101814e-01, 4.91898186e-01],\n",
       "       [7.64831140e-03, 9.92351689e-01],\n",
       "       [5.99701942e-03, 9.94002981e-01],\n",
       "       [6.65620688e-02, 9.33437931e-01],\n",
       "       [3.28410744e-01, 6.71589256e-01],\n",
       "       [5.51168264e-03, 9.94488317e-01],\n",
       "       [4.57201949e-07, 9.99999543e-01],\n",
       "       [7.06706877e-01, 2.93293123e-01],\n",
       "       [7.25125218e-01, 2.74874782e-01],\n",
       "       [9.17347836e-03, 9.90826522e-01],\n",
       "       [9.02611906e-01, 9.73880945e-02],\n",
       "       [2.54315585e-03, 9.97456844e-01],\n",
       "       [8.68552631e-01, 1.31447369e-01],\n",
       "       [9.18545416e-01, 8.14545839e-02],\n",
       "       [3.86646309e-02, 9.61335369e-01],\n",
       "       [7.51073780e-01, 2.48926220e-01],\n",
       "       [5.08696918e-02, 9.49130308e-01],\n",
       "       [8.60114651e-03, 9.91398853e-01],\n",
       "       [1.48628760e-07, 9.99999851e-01],\n",
       "       [3.96495855e-01, 6.03504145e-01],\n",
       "       [7.41999885e-02, 9.25800011e-01],\n",
       "       [1.85021693e-02, 9.81497831e-01],\n",
       "       [1.34452527e-01, 8.65547473e-01],\n",
       "       [3.84236618e-01, 6.15763382e-01],\n",
       "       [8.03546080e-01, 1.96453920e-01],\n",
       "       [2.66376888e-01, 7.33623112e-01],\n",
       "       [8.51602640e-01, 1.48397360e-01],\n",
       "       [5.22071328e-01, 4.77928672e-01],\n",
       "       [8.51142742e-02, 9.14885726e-01],\n",
       "       [2.95795808e-06, 9.99997042e-01],\n",
       "       [8.30566055e-01, 1.69433945e-01],\n",
       "       [1.26749112e-08, 9.99999987e-01],\n",
       "       [9.84927435e-01, 1.50725650e-02],\n",
       "       [1.58207240e-05, 9.99984179e-01],\n",
       "       [8.04109860e-01, 1.95890140e-01],\n",
       "       [1.88333411e-02, 9.81166659e-01],\n",
       "       [9.70405999e-01, 2.95940012e-02],\n",
       "       [7.78036569e-01, 2.21963431e-01],\n",
       "       [1.17626708e-05, 9.99988237e-01],\n",
       "       [6.89141801e-01, 3.10858199e-01],\n",
       "       [6.75877350e-03, 9.93241227e-01],\n",
       "       [7.39783034e-01, 2.60216966e-01],\n",
       "       [1.97937679e-01, 8.02062321e-01],\n",
       "       [9.59041672e-01, 4.09583285e-02],\n",
       "       [5.79368789e-10, 9.99999999e-01],\n",
       "       [3.54789690e-06, 9.99996452e-01],\n",
       "       [7.60141583e-09, 9.99999992e-01],\n",
       "       [9.72329595e-01, 2.76704046e-02],\n",
       "       [8.28345913e-01, 1.71654087e-01],\n",
       "       [9.58694467e-01, 4.13055335e-02],\n",
       "       [6.74425275e-03, 9.93255747e-01],\n",
       "       [9.48648034e-06, 9.99990514e-01],\n",
       "       [1.14976022e-06, 9.99998850e-01],\n",
       "       [3.69623910e-01, 6.30376090e-01],\n",
       "       [2.47945975e-02, 9.75205402e-01],\n",
       "       [6.11423742e-07, 9.99999389e-01],\n",
       "       [8.59632083e-02, 9.14036792e-01],\n",
       "       [7.46447249e-02, 9.25355275e-01],\n",
       "       [5.64033820e-01, 4.35966180e-01],\n",
       "       [3.53846587e-06, 9.99996462e-01],\n",
       "       [9.12917349e-01, 8.70826512e-02],\n",
       "       [6.56986733e-01, 3.43013267e-01],\n",
       "       [9.09979985e-01, 9.00200152e-02],\n",
       "       [3.01221284e-03, 9.96987787e-01],\n",
       "       [9.40380485e-01, 5.96195146e-02],\n",
       "       [1.02187325e-02, 9.89781267e-01],\n",
       "       [2.42871618e-01, 7.57128382e-01],\n",
       "       [9.23214824e-01, 7.67851755e-02],\n",
       "       [9.98145032e-01, 1.85496844e-03],\n",
       "       [5.38979732e-01, 4.61020268e-01],\n",
       "       [6.51052216e-01, 3.48947784e-01],\n",
       "       [3.17762530e-06, 9.99996822e-01],\n",
       "       [7.60645102e-07, 9.99999239e-01],\n",
       "       [4.08682589e-08, 9.99999959e-01],\n",
       "       [1.40350926e-01, 8.59649074e-01],\n",
       "       [1.77917293e-07, 9.99999822e-01],\n",
       "       [9.86872498e-01, 1.31275018e-02],\n",
       "       [7.15962993e-01, 2.84037007e-01],\n",
       "       [2.29926254e-01, 7.70073746e-01],\n",
       "       [9.51165939e-01, 4.88340615e-02],\n",
       "       [2.05455632e-06, 9.99997945e-01],\n",
       "       [5.24447795e-01, 4.75552205e-01],\n",
       "       [1.01753863e-06, 9.99998982e-01],\n",
       "       [9.86018250e-01, 1.39817496e-02],\n",
       "       [5.08571829e-02, 9.49142817e-01],\n",
       "       [1.62651752e-02, 9.83734825e-01],\n",
       "       [1.22129809e-01, 8.77870191e-01],\n",
       "       [8.60452344e-02, 9.13954766e-01],\n",
       "       [7.35872437e-03, 9.92641276e-01],\n",
       "       [8.81114408e-01, 1.18885592e-01],\n",
       "       [2.40852433e-01, 7.59147567e-01],\n",
       "       [9.63442070e-01, 3.65579302e-02],\n",
       "       [9.74807936e-01, 2.51920642e-02],\n",
       "       [4.03037775e-08, 9.99999960e-01],\n",
       "       [1.55516557e-07, 9.99999844e-01],\n",
       "       [2.38364788e-08, 9.99999976e-01],\n",
       "       [3.23229922e-02, 9.67677008e-01],\n",
       "       [8.96809411e-01, 1.03190589e-01],\n",
       "       [1.50743317e-05, 9.99984926e-01],\n",
       "       [1.68952212e-02, 9.83104779e-01],\n",
       "       [1.08914269e-01, 8.91085731e-01]])"
      ]
     },
     "execution_count": 19,
     "metadata": {},
     "output_type": "execute_result"
    }
   ],
   "source": [
    "clf.predict_proba(X_test)"
   ]
  },
  {
   "cell_type": "code",
   "execution_count": 20,
   "metadata": {},
   "outputs": [],
   "source": [
    "from sklearn.metrics import f1_score, confusion_matrix, classification_report"
   ]
  },
  {
   "cell_type": "code",
   "execution_count": 21,
   "metadata": {},
   "outputs": [
    {
     "name": "stdout",
     "output_type": "stream",
     "text": [
      "              precision    recall  f1-score   support\n",
      "\n",
      "           0       0.81      0.95      0.87        79\n",
      "           1       0.96      0.85      0.90       120\n",
      "\n",
      "    accuracy                           0.89       199\n",
      "   macro avg       0.88      0.90      0.89       199\n",
      "weighted avg       0.90      0.89      0.89       199\n",
      "\n"
     ]
    }
   ],
   "source": [
    "prediction = clf.predict(X_test)\n",
    "print(classification_report(y_test, prediction))"
   ]
  },
  {
   "cell_type": "code",
   "execution_count": 22,
   "metadata": {},
   "outputs": [
    {
     "name": "stdout",
     "output_type": "stream",
     "text": [
      "[1 0 0 0 0 1 1 0 1 0 0 0 0 1 0 1 0 1 1 0 0 0 0 0 1 0 0 0 0 1 0 1 1 0 1 0 1\n",
      " 1 0 0 0 1 1 0 1 1 0 1 0 0 1 1 0 1 0 0 0 1 0 1 0 1 1 0 1 1 1 1 1 0 0 0 1 0\n",
      " 0 1 0 1 1 1 0 1 1 0 0 0 1 0 1 1 1 0 0 0 0 0 0 1 0 1 1 1 1 1 1 0 0 1 0 1 0\n",
      " 0 1 0 1 1 1 1 1 1 1 1 0 1 0 0 1 1 0 1 0 1 0 1 0 0 1 0 1 0 1 0 1 1 1 0 0 0\n",
      " 1 1 1 1 1 1 1 1 0 1 0 0 0 1 0 1 1 0 0 0 0 1 1 1 1 1 0 0 1 0 1 0 1 0 1 1 1\n",
      " 1 1 0 1 0 0 1 1 1 1 0 1 1 1]\n",
      "[[ 75   4]\n",
      " [ 18 102]]\n",
      "0.9026548672566371\n"
     ]
    }
   ],
   "source": [
    "print(prediction)\n",
    "\n",
    "print(confusion_matrix(y_test, prediction))\n",
    "print(f1_score(y_test, prediction))"
   ]
  },
  {
   "cell_type": "code",
   "execution_count": 23,
   "metadata": {},
   "outputs": [
    {
     "data": {
      "image/png": "[encoded data removed]",
      "text/plain": [
       "<Figure size 640x480 with 2 Axes>"
      ]
     },
     "metadata": {},
     "output_type": "display_data"
    }
   ],
   "source": [
    "import matplotlib.pyplot as plt\n",
    "import seaborn as sns\n",
    "\n",
    "labels = ['No Deal', 'Deal']\n",
    "\n",
    "cm = confusion_matrix(y_test, prediction)\n",
    "\n",
    "sns.heatmap(cm, annot=True, cmap='Blues', xticklabels = labels, yticklabels = labels, annot_kws={\"size\": 16})\n",
    "\n",
    "\n",
    "plt.xlabel('Predicted')\n",
    "plt.ylabel('Actual')\n",
    "plt.title('Confusion Matrix')\n",
    "\n",
    "plt.show()"
   ]
  },
  {
   "cell_type": "code",
   "execution_count": 24,
   "metadata": {},
   "outputs": [],
   "source": [
    "from sklearn import svm, datasets"
   ]
  },
  {
   "attachments": {},
   "cell_type": "markdown",
   "metadata": {},
   "source": [
    "### User Input Model"
   ]
  },
  {
   "cell_type": "code",
   "execution_count": 25,
   "metadata": {},
   "outputs": [],
   "source": [
    "user_input = input(\"Enter industry, city, gender, and state\")"
   ]
  },
  {
   "cell_type": "code",
   "execution_count": 26,
   "metadata": {},
   "outputs": [
    {
     "ename": "ValueError",
     "evalue": "X has 1 features, but ColumnTransformer is expecting 35 features as input.",
     "output_type": "error",
     "traceback": [
      "\u001b[0;31m---------------------------------------------------------------------------\u001b[0m",
      "\u001b[0;31mValueError\u001b[0m                                Traceback (most recent call last)",
      "Cell \u001b[0;32mIn[26], line 8\u001b[0m\n\u001b[1;32m      5\u001b[0m user_input \u001b[39m=\u001b[39m [user_input]\n\u001b[1;32m      7\u001b[0m \u001b[39m# Make predictions\u001b[39;00m\n\u001b[0;32m----> 8\u001b[0m prediction \u001b[39m=\u001b[39m clf\u001b[39m.\u001b[39;49mpredict(user_input)\n",
      "File \u001b[0;32m~/code/new_python/sharktank/.venv/lib/python3.11/site-packages/sklearn/pipeline.py:480\u001b[0m, in \u001b[0;36mPipeline.predict\u001b[0;34m(self, X, **predict_params)\u001b[0m\n\u001b[1;32m    478\u001b[0m Xt \u001b[39m=\u001b[39m X\n\u001b[1;32m    479\u001b[0m \u001b[39mfor\u001b[39;00m _, name, transform \u001b[39min\u001b[39;00m \u001b[39mself\u001b[39m\u001b[39m.\u001b[39m_iter(with_final\u001b[39m=\u001b[39m\u001b[39mFalse\u001b[39;00m):\n\u001b[0;32m--> 480\u001b[0m     Xt \u001b[39m=\u001b[39m transform\u001b[39m.\u001b[39;49mtransform(Xt)\n\u001b[1;32m    481\u001b[0m \u001b[39mreturn\u001b[39;00m \u001b[39mself\u001b[39m\u001b[39m.\u001b[39msteps[\u001b[39m-\u001b[39m\u001b[39m1\u001b[39m][\u001b[39m1\u001b[39m]\u001b[39m.\u001b[39mpredict(Xt, \u001b[39m*\u001b[39m\u001b[39m*\u001b[39mpredict_params)\n",
      "File \u001b[0;32m~/code/new_python/sharktank/.venv/lib/python3.11/site-packages/sklearn/utils/_set_output.py:142\u001b[0m, in \u001b[0;36m_wrap_method_output.<locals>.wrapped\u001b[0;34m(self, X, *args, **kwargs)\u001b[0m\n\u001b[1;32m    140\u001b[0m \u001b[39m@wraps\u001b[39m(f)\n\u001b[1;32m    141\u001b[0m \u001b[39mdef\u001b[39;00m \u001b[39mwrapped\u001b[39m(\u001b[39mself\u001b[39m, X, \u001b[39m*\u001b[39margs, \u001b[39m*\u001b[39m\u001b[39m*\u001b[39mkwargs):\n\u001b[0;32m--> 142\u001b[0m     data_to_wrap \u001b[39m=\u001b[39m f(\u001b[39mself\u001b[39;49m, X, \u001b[39m*\u001b[39;49margs, \u001b[39m*\u001b[39;49m\u001b[39m*\u001b[39;49mkwargs)\n\u001b[1;32m    143\u001b[0m     \u001b[39mif\u001b[39;00m \u001b[39misinstance\u001b[39m(data_to_wrap, \u001b[39mtuple\u001b[39m):\n\u001b[1;32m    144\u001b[0m         \u001b[39m# only wrap the first output for cross decomposition\u001b[39;00m\n\u001b[1;32m    145\u001b[0m         \u001b[39mreturn\u001b[39;00m (\n\u001b[1;32m    146\u001b[0m             _wrap_data_with_container(method, data_to_wrap[\u001b[39m0\u001b[39m], X, \u001b[39mself\u001b[39m),\n\u001b[1;32m    147\u001b[0m             \u001b[39m*\u001b[39mdata_to_wrap[\u001b[39m1\u001b[39m:],\n\u001b[1;32m    148\u001b[0m         )\n",
      "File \u001b[0;32m~/code/new_python/sharktank/.venv/lib/python3.11/site-packages/sklearn/compose/_column_transformer.py:798\u001b[0m, in \u001b[0;36mColumnTransformer.transform\u001b[0;34m(self, X)\u001b[0m\n\u001b[1;32m    794\u001b[0m         \u001b[39mraise\u001b[39;00m \u001b[39mValueError\u001b[39;00m(\u001b[39mf\u001b[39m\u001b[39m\"\u001b[39m\u001b[39mcolumns are missing: \u001b[39m\u001b[39m{\u001b[39;00mdiff\u001b[39m}\u001b[39;00m\u001b[39m\"\u001b[39m)\n\u001b[1;32m    795\u001b[0m \u001b[39melse\u001b[39;00m:\n\u001b[1;32m    796\u001b[0m     \u001b[39m# ndarray was used for fitting or transforming, thus we only\u001b[39;00m\n\u001b[1;32m    797\u001b[0m     \u001b[39m# check that n_features_in_ is consistent\u001b[39;00m\n\u001b[0;32m--> 798\u001b[0m     \u001b[39mself\u001b[39;49m\u001b[39m.\u001b[39;49m_check_n_features(X, reset\u001b[39m=\u001b[39;49m\u001b[39mFalse\u001b[39;49;00m)\n\u001b[1;32m    800\u001b[0m Xs \u001b[39m=\u001b[39m \u001b[39mself\u001b[39m\u001b[39m.\u001b[39m_fit_transform(\n\u001b[1;32m    801\u001b[0m     X,\n\u001b[1;32m    802\u001b[0m     \u001b[39mNone\u001b[39;00m,\n\u001b[0;32m   (...)\u001b[0m\n\u001b[1;32m    805\u001b[0m     column_as_strings\u001b[39m=\u001b[39mfit_dataframe_and_transform_dataframe,\n\u001b[1;32m    806\u001b[0m )\n\u001b[1;32m    807\u001b[0m \u001b[39mself\u001b[39m\u001b[39m.\u001b[39m_validate_output(Xs)\n",
      "File \u001b[0;32m~/code/new_python/sharktank/.venv/lib/python3.11/site-packages/sklearn/base.py:370\u001b[0m, in \u001b[0;36mBaseEstimator._check_n_features\u001b[0;34m(self, X, reset)\u001b[0m\n\u001b[1;32m    367\u001b[0m     \u001b[39mreturn\u001b[39;00m\n\u001b[1;32m    369\u001b[0m \u001b[39mif\u001b[39;00m n_features \u001b[39m!=\u001b[39m \u001b[39mself\u001b[39m\u001b[39m.\u001b[39mn_features_in_:\n\u001b[0;32m--> 370\u001b[0m     \u001b[39mraise\u001b[39;00m \u001b[39mValueError\u001b[39;00m(\n\u001b[1;32m    371\u001b[0m         \u001b[39mf\u001b[39m\u001b[39m\"\u001b[39m\u001b[39mX has \u001b[39m\u001b[39m{\u001b[39;00mn_features\u001b[39m}\u001b[39;00m\u001b[39m features, but \u001b[39m\u001b[39m{\u001b[39;00m\u001b[39mself\u001b[39m\u001b[39m.\u001b[39m\u001b[39m__class__\u001b[39m\u001b[39m.\u001b[39m\u001b[39m__name__\u001b[39m\u001b[39m}\u001b[39;00m\u001b[39m \u001b[39m\u001b[39m\"\u001b[39m\n\u001b[1;32m    372\u001b[0m         \u001b[39mf\u001b[39m\u001b[39m\"\u001b[39m\u001b[39mis expecting \u001b[39m\u001b[39m{\u001b[39;00m\u001b[39mself\u001b[39m\u001b[39m.\u001b[39mn_features_in_\u001b[39m}\u001b[39;00m\u001b[39m features as input.\u001b[39m\u001b[39m\"\u001b[39m\n\u001b[1;32m    373\u001b[0m     )\n",
      "\u001b[0;31mValueError\u001b[0m: X has 1 features, but ColumnTransformer is expecting 35 features as input."
     ]
    }
   ],
   "source": [
    "user_input = user_input.split(',')\n",
    "user_input = [str(i) for i in user_input]\n",
    "\n",
    "# Preprocess user responses\n",
    "user_input = [user_input]\n",
    "\n",
    "# Make predictions\n",
    "prediction = clf.predict(user_input)"
   ]
  },
  {
   "cell_type": "code",
   "execution_count": null,
   "metadata": {},
   "outputs": [
    {
     "ename": "ValueError",
     "evalue": "The truth value of an array with more than one element is ambiguous. Use a.any() or a.all()",
     "output_type": "error",
     "traceback": [
      "\u001b[0;31m---------------------------------------------------------------------------\u001b[0m",
      "\u001b[0;31mValueError\u001b[0m                                Traceback (most recent call last)",
      "Cell \u001b[0;32mIn[28], line 1\u001b[0m\n\u001b[0;32m----> 1\u001b[0m \u001b[39mif\u001b[39;00m prediction \u001b[39m==\u001b[39m \u001b[39m0\u001b[39m:\n\u001b[1;32m      2\u001b[0m     \u001b[39mprint\u001b[39m(\u001b[39m\"\u001b[39m\u001b[39mNo deal\u001b[39m\u001b[39m\"\u001b[39m)\n\u001b[1;32m      3\u001b[0m \u001b[39melse\u001b[39;00m:\n",
      "\u001b[0;31mValueError\u001b[0m: The truth value of an array with more than one element is ambiguous. Use a.any() or a.all()"
     ]
    }
   ],
   "source": [
    "if prediction == 0:\n",
    "    print(\"No deal\")\n",
    "else:\n",
    "    print(\"Deal\")"
   ]
  }
 ],
 "metadata": {
  "kernelspec": {
   "display_name": ".venv",
   "language": "python",
   "name": "python3"
  },
  "language_info": {
   "codemirror_mode": {
    "name": "ipython",
    "version": 3
   },
   "file_extension": ".py",
   "mimetype": "text/x-python",
   "name": "python",
   "nbconvert_exporter": "python",
   "pygments_lexer": "ipython3",
   "version": "3.11.2"
  },
  "orig_nbformat": 4,
  "vscode": {
   "interpreter": {
    "hash": "48dbd5be141d451297a75fdcdb92f673a84f1c5c7f27edb4892bcc85710fc5a7"
   }
  }
 },
 "nbformat": 4,
 "nbformat_minor": 2
}
